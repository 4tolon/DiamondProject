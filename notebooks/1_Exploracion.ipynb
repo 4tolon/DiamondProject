{
 "cells": [
  {
   "cell_type": "markdown",
   "id": "5cba0b29",
   "metadata": {},
   "source": [
    "# Diamond Project"
   ]
  },
  {
   "cell_type": "markdown",
   "id": "b21d86e8",
   "metadata": {},
   "source": [
    "## Importaciones de librerias y exploración\n"
   ]
  },
  {
   "cell_type": "code",
   "execution_count": 1,
   "id": "61f021ee",
   "metadata": {},
   "outputs": [],
   "source": [
    "\n",
    "%matplotlib inline\n",
    "\n",
    "import numpy as np\n",
    "import pandas as pd\n",
    "\n",
    "import seaborn as sns\n",
    "# El mantra de las visualizaciones\n",
    "from matplotlib import pyplot as plt\n",
    "%matplotlib inline\n",
    "%config Inlinebackend.figure_format = 'retina'\n",
    "\n",
    "import seaborn as sns\n",
    "sns.set_context('poster')\n",
    "sns.set(rc={'figure.figsize': (16., 9.)})\n",
    "sns.set_style('whitegrid')\n",
    "\n",
    "\n",
    "\n",
    "from sklearn.model_selection import train_test_split as tts\n",
    "\n",
    "from sklearn import metrics\n",
    "\n",
    "from sklearn.linear_model import LinearRegression \n",
    "\n",
    "from sklearn.linear_model import Ridge, Lasso\n",
    "\n",
    "from sklearn.linear_model import SGDRegressor\n",
    "\n",
    "from sklearn.neighbors import KNeighborsRegressor\n",
    "\n",
    "from sklearn.ensemble import GradientBoostingRegressor\n",
    "\n",
    "from sklearn.svm import SVR"
   ]
  },
  {
   "cell_type": "code",
   "execution_count": 2,
   "id": "acb4420e",
   "metadata": {},
   "outputs": [],
   "source": [
    "train = pd.read_csv('../data/train.csv')\n",
    "test = pd.read_csv('../data/test.csv')"
   ]
  },
  {
   "cell_type": "code",
   "execution_count": 3,
   "id": "12e929f0",
   "metadata": {},
   "outputs": [
    {
     "data": {
      "text/html": [
       "<div>\n",
       "<style scoped>\n",
       "    .dataframe tbody tr th:only-of-type {\n",
       "        vertical-align: middle;\n",
       "    }\n",
       "\n",
       "    .dataframe tbody tr th {\n",
       "        vertical-align: top;\n",
       "    }\n",
       "\n",
       "    .dataframe thead th {\n",
       "        text-align: right;\n",
       "    }\n",
       "</style>\n",
       "<table border=\"1\" class=\"dataframe\">\n",
       "  <thead>\n",
       "    <tr style=\"text-align: right;\">\n",
       "      <th></th>\n",
       "      <th>id</th>\n",
       "      <th>carat</th>\n",
       "      <th>cut</th>\n",
       "      <th>color</th>\n",
       "      <th>clarity</th>\n",
       "      <th>depth</th>\n",
       "      <th>table</th>\n",
       "      <th>x</th>\n",
       "      <th>y</th>\n",
       "      <th>z</th>\n",
       "      <th>price</th>\n",
       "    </tr>\n",
       "  </thead>\n",
       "  <tbody>\n",
       "    <tr>\n",
       "      <th>1717</th>\n",
       "      <td>1717</td>\n",
       "      <td>0.31</td>\n",
       "      <td>Very Good</td>\n",
       "      <td>E</td>\n",
       "      <td>SI1</td>\n",
       "      <td>62.8</td>\n",
       "      <td>57.0</td>\n",
       "      <td>4.32</td>\n",
       "      <td>4.34</td>\n",
       "      <td>2.72</td>\n",
       "      <td>544</td>\n",
       "    </tr>\n",
       "    <tr>\n",
       "      <th>10181</th>\n",
       "      <td>10181</td>\n",
       "      <td>0.90</td>\n",
       "      <td>Fair</td>\n",
       "      <td>F</td>\n",
       "      <td>SI1</td>\n",
       "      <td>66.0</td>\n",
       "      <td>57.0</td>\n",
       "      <td>6.06</td>\n",
       "      <td>6.00</td>\n",
       "      <td>3.98</td>\n",
       "      <td>3160</td>\n",
       "    </tr>\n",
       "    <tr>\n",
       "      <th>1055</th>\n",
       "      <td>1055</td>\n",
       "      <td>0.70</td>\n",
       "      <td>Very Good</td>\n",
       "      <td>I</td>\n",
       "      <td>VS2</td>\n",
       "      <td>60.7</td>\n",
       "      <td>59.0</td>\n",
       "      <td>5.75</td>\n",
       "      <td>5.79</td>\n",
       "      <td>3.50</td>\n",
       "      <td>2025</td>\n",
       "    </tr>\n",
       "    <tr>\n",
       "      <th>17290</th>\n",
       "      <td>17290</td>\n",
       "      <td>0.35</td>\n",
       "      <td>Premium</td>\n",
       "      <td>H</td>\n",
       "      <td>SI2</td>\n",
       "      <td>62.0</td>\n",
       "      <td>58.0</td>\n",
       "      <td>4.50</td>\n",
       "      <td>4.47</td>\n",
       "      <td>2.78</td>\n",
       "      <td>551</td>\n",
       "    </tr>\n",
       "    <tr>\n",
       "      <th>13538</th>\n",
       "      <td>13538</td>\n",
       "      <td>0.33</td>\n",
       "      <td>Ideal</td>\n",
       "      <td>I</td>\n",
       "      <td>IF</td>\n",
       "      <td>61.6</td>\n",
       "      <td>55.0</td>\n",
       "      <td>4.47</td>\n",
       "      <td>4.46</td>\n",
       "      <td>2.75</td>\n",
       "      <td>891</td>\n",
       "    </tr>\n",
       "    <tr>\n",
       "      <th>7302</th>\n",
       "      <td>7302</td>\n",
       "      <td>1.20</td>\n",
       "      <td>Premium</td>\n",
       "      <td>G</td>\n",
       "      <td>VVS2</td>\n",
       "      <td>62.8</td>\n",
       "      <td>59.0</td>\n",
       "      <td>6.72</td>\n",
       "      <td>6.65</td>\n",
       "      <td>4.20</td>\n",
       "      <td>10053</td>\n",
       "    </tr>\n",
       "    <tr>\n",
       "      <th>10641</th>\n",
       "      <td>10641</td>\n",
       "      <td>1.22</td>\n",
       "      <td>Good</td>\n",
       "      <td>H</td>\n",
       "      <td>SI2</td>\n",
       "      <td>61.5</td>\n",
       "      <td>64.0</td>\n",
       "      <td>6.93</td>\n",
       "      <td>6.87</td>\n",
       "      <td>4.25</td>\n",
       "      <td>4782</td>\n",
       "    </tr>\n",
       "    <tr>\n",
       "      <th>15406</th>\n",
       "      <td>15406</td>\n",
       "      <td>0.79</td>\n",
       "      <td>Premium</td>\n",
       "      <td>H</td>\n",
       "      <td>VS1</td>\n",
       "      <td>60.0</td>\n",
       "      <td>60.0</td>\n",
       "      <td>6.07</td>\n",
       "      <td>5.99</td>\n",
       "      <td>3.64</td>\n",
       "      <td>2862</td>\n",
       "    </tr>\n",
       "    <tr>\n",
       "      <th>16162</th>\n",
       "      <td>16162</td>\n",
       "      <td>0.34</td>\n",
       "      <td>Ideal</td>\n",
       "      <td>D</td>\n",
       "      <td>I1</td>\n",
       "      <td>62.5</td>\n",
       "      <td>57.0</td>\n",
       "      <td>4.47</td>\n",
       "      <td>4.49</td>\n",
       "      <td>2.80</td>\n",
       "      <td>413</td>\n",
       "    </tr>\n",
       "    <tr>\n",
       "      <th>11713</th>\n",
       "      <td>11713</td>\n",
       "      <td>1.20</td>\n",
       "      <td>Ideal</td>\n",
       "      <td>I</td>\n",
       "      <td>SI1</td>\n",
       "      <td>62.2</td>\n",
       "      <td>57.0</td>\n",
       "      <td>6.80</td>\n",
       "      <td>6.77</td>\n",
       "      <td>4.22</td>\n",
       "      <td>4368</td>\n",
       "    </tr>\n",
       "  </tbody>\n",
       "</table>\n",
       "</div>"
      ],
      "text/plain": [
       "          id  carat        cut color clarity  depth  table     x     y     z  \\\n",
       "1717    1717   0.31  Very Good     E     SI1   62.8   57.0  4.32  4.34  2.72   \n",
       "10181  10181   0.90       Fair     F     SI1   66.0   57.0  6.06  6.00  3.98   \n",
       "1055    1055   0.70  Very Good     I     VS2   60.7   59.0  5.75  5.79  3.50   \n",
       "17290  17290   0.35    Premium     H     SI2   62.0   58.0  4.50  4.47  2.78   \n",
       "13538  13538   0.33      Ideal     I      IF   61.6   55.0  4.47  4.46  2.75   \n",
       "7302    7302   1.20    Premium     G    VVS2   62.8   59.0  6.72  6.65  4.20   \n",
       "10641  10641   1.22       Good     H     SI2   61.5   64.0  6.93  6.87  4.25   \n",
       "15406  15406   0.79    Premium     H     VS1   60.0   60.0  6.07  5.99  3.64   \n",
       "16162  16162   0.34      Ideal     D      I1   62.5   57.0  4.47  4.49  2.80   \n",
       "11713  11713   1.20      Ideal     I     SI1   62.2   57.0  6.80  6.77  4.22   \n",
       "\n",
       "       price  \n",
       "1717     544  \n",
       "10181   3160  \n",
       "1055    2025  \n",
       "17290    551  \n",
       "13538    891  \n",
       "7302   10053  \n",
       "10641   4782  \n",
       "15406   2862  \n",
       "16162    413  \n",
       "11713   4368  "
      ]
     },
     "execution_count": 3,
     "metadata": {},
     "output_type": "execute_result"
    }
   ],
   "source": [
    "train.sample(10)"
   ]
  },
  {
   "cell_type": "markdown",
   "id": "00881158",
   "metadata": {},
   "source": [
    "### Features\n",
    "* id: only for test & sample submission files, id for prediction sample identification\n",
    "* price: price in USD\n",
    "* carat: weight of the diamond\n",
    "* cut: quality of the cut (Fair, Good, Very Good, Premium, Ideal)\n",
    "* color: diamond colour\n",
    "* clarity: a measurement of how clear the diamond is\n",
    "* x: length in mm\n",
    "* y: width in mm\n",
    "* z: depth in mm\n",
    "* depth: total depth percentage = z / mean(x, y) = 2 * z / (x + y) (43--79)\n",
    "* table: width of top of diamond relative to widest point (43--95)"
   ]
  },
  {
   "cell_type": "code",
   "execution_count": 4,
   "id": "5ff76c46",
   "metadata": {},
   "outputs": [
    {
     "name": "stdout",
     "output_type": "stream",
     "text": [
      "<class 'pandas.core.frame.DataFrame'>\n",
      "RangeIndex: 40455 entries, 0 to 40454\n",
      "Data columns (total 11 columns):\n",
      " #   Column   Non-Null Count  Dtype  \n",
      "---  ------   --------------  -----  \n",
      " 0   id       40455 non-null  int64  \n",
      " 1   carat    40455 non-null  float64\n",
      " 2   cut      40455 non-null  object \n",
      " 3   color    40455 non-null  object \n",
      " 4   clarity  40455 non-null  object \n",
      " 5   depth    40455 non-null  float64\n",
      " 6   table    40455 non-null  float64\n",
      " 7   x        40455 non-null  float64\n",
      " 8   y        40455 non-null  float64\n",
      " 9   z        40455 non-null  float64\n",
      " 10  price    40455 non-null  int64  \n",
      "dtypes: float64(6), int64(2), object(3)\n",
      "memory usage: 3.4+ MB\n"
     ]
    }
   ],
   "source": [
    "train.info()"
   ]
  },
  {
   "cell_type": "code",
   "execution_count": 5,
   "id": "0949a5f5",
   "metadata": {},
   "outputs": [
    {
     "data": {
      "text/html": [
       "<div>\n",
       "<style scoped>\n",
       "    .dataframe tbody tr th:only-of-type {\n",
       "        vertical-align: middle;\n",
       "    }\n",
       "\n",
       "    .dataframe tbody tr th {\n",
       "        vertical-align: top;\n",
       "    }\n",
       "\n",
       "    .dataframe thead th {\n",
       "        text-align: right;\n",
       "    }\n",
       "</style>\n",
       "<table border=\"1\" class=\"dataframe\">\n",
       "  <thead>\n",
       "    <tr style=\"text-align: right;\">\n",
       "      <th></th>\n",
       "      <th>id</th>\n",
       "      <th>carat</th>\n",
       "      <th>depth</th>\n",
       "      <th>table</th>\n",
       "      <th>x</th>\n",
       "      <th>y</th>\n",
       "      <th>z</th>\n",
       "      <th>price</th>\n",
       "    </tr>\n",
       "  </thead>\n",
       "  <tbody>\n",
       "    <tr>\n",
       "      <th>count</th>\n",
       "      <td>40455.000000</td>\n",
       "      <td>40455.000000</td>\n",
       "      <td>40455.000000</td>\n",
       "      <td>40455.000000</td>\n",
       "      <td>40455.000000</td>\n",
       "      <td>40455.000000</td>\n",
       "      <td>40455.000000</td>\n",
       "      <td>40455.000000</td>\n",
       "    </tr>\n",
       "    <tr>\n",
       "      <th>mean</th>\n",
       "      <td>20227.000000</td>\n",
       "      <td>0.798406</td>\n",
       "      <td>61.744793</td>\n",
       "      <td>57.450157</td>\n",
       "      <td>5.733269</td>\n",
       "      <td>5.736107</td>\n",
       "      <td>3.539249</td>\n",
       "      <td>3939.026968</td>\n",
       "    </tr>\n",
       "    <tr>\n",
       "      <th>std</th>\n",
       "      <td>11678.496907</td>\n",
       "      <td>0.473424</td>\n",
       "      <td>1.430860</td>\n",
       "      <td>2.235814</td>\n",
       "      <td>1.120257</td>\n",
       "      <td>1.119260</td>\n",
       "      <td>0.693619</td>\n",
       "      <td>3995.017122</td>\n",
       "    </tr>\n",
       "    <tr>\n",
       "      <th>min</th>\n",
       "      <td>0.000000</td>\n",
       "      <td>0.200000</td>\n",
       "      <td>43.000000</td>\n",
       "      <td>43.000000</td>\n",
       "      <td>0.000000</td>\n",
       "      <td>0.000000</td>\n",
       "      <td>0.000000</td>\n",
       "      <td>327.000000</td>\n",
       "    </tr>\n",
       "    <tr>\n",
       "      <th>25%</th>\n",
       "      <td>10113.500000</td>\n",
       "      <td>0.400000</td>\n",
       "      <td>61.000000</td>\n",
       "      <td>56.000000</td>\n",
       "      <td>4.710000</td>\n",
       "      <td>4.720000</td>\n",
       "      <td>2.910000</td>\n",
       "      <td>949.000000</td>\n",
       "    </tr>\n",
       "    <tr>\n",
       "      <th>50%</th>\n",
       "      <td>20227.000000</td>\n",
       "      <td>0.700000</td>\n",
       "      <td>61.800000</td>\n",
       "      <td>57.000000</td>\n",
       "      <td>5.700000</td>\n",
       "      <td>5.710000</td>\n",
       "      <td>3.530000</td>\n",
       "      <td>2404.000000</td>\n",
       "    </tr>\n",
       "    <tr>\n",
       "      <th>75%</th>\n",
       "      <td>30340.500000</td>\n",
       "      <td>1.040000</td>\n",
       "      <td>62.500000</td>\n",
       "      <td>59.000000</td>\n",
       "      <td>6.540000</td>\n",
       "      <td>6.540000</td>\n",
       "      <td>4.040000</td>\n",
       "      <td>5331.000000</td>\n",
       "    </tr>\n",
       "    <tr>\n",
       "      <th>max</th>\n",
       "      <td>40454.000000</td>\n",
       "      <td>5.010000</td>\n",
       "      <td>79.000000</td>\n",
       "      <td>95.000000</td>\n",
       "      <td>10.740000</td>\n",
       "      <td>31.800000</td>\n",
       "      <td>6.980000</td>\n",
       "      <td>18818.000000</td>\n",
       "    </tr>\n",
       "  </tbody>\n",
       "</table>\n",
       "</div>"
      ],
      "text/plain": [
       "                 id         carat         depth         table             x  \\\n",
       "count  40455.000000  40455.000000  40455.000000  40455.000000  40455.000000   \n",
       "mean   20227.000000      0.798406     61.744793     57.450157      5.733269   \n",
       "std    11678.496907      0.473424      1.430860      2.235814      1.120257   \n",
       "min        0.000000      0.200000     43.000000     43.000000      0.000000   \n",
       "25%    10113.500000      0.400000     61.000000     56.000000      4.710000   \n",
       "50%    20227.000000      0.700000     61.800000     57.000000      5.700000   \n",
       "75%    30340.500000      1.040000     62.500000     59.000000      6.540000   \n",
       "max    40454.000000      5.010000     79.000000     95.000000     10.740000   \n",
       "\n",
       "                  y             z         price  \n",
       "count  40455.000000  40455.000000  40455.000000  \n",
       "mean       5.736107      3.539249   3939.026968  \n",
       "std        1.119260      0.693619   3995.017122  \n",
       "min        0.000000      0.000000    327.000000  \n",
       "25%        4.720000      2.910000    949.000000  \n",
       "50%        5.710000      3.530000   2404.000000  \n",
       "75%        6.540000      4.040000   5331.000000  \n",
       "max       31.800000      6.980000  18818.000000  "
      ]
     },
     "execution_count": 5,
     "metadata": {},
     "output_type": "execute_result"
    }
   ],
   "source": [
    "train.describe()"
   ]
  },
  {
   "cell_type": "code",
   "execution_count": 6,
   "id": "ff73630b",
   "metadata": {},
   "outputs": [
    {
     "data": {
      "text/plain": [
       "Index(['id', 'carat', 'cut', 'color', 'clarity', 'depth', 'table', 'x', 'y',\n",
       "       'z', 'price'],\n",
       "      dtype='object')"
      ]
     },
     "execution_count": 6,
     "metadata": {},
     "output_type": "execute_result"
    }
   ],
   "source": [
    "train.columns"
   ]
  },
  {
   "cell_type": "code",
   "execution_count": 7,
   "id": "fa62faca",
   "metadata": {},
   "outputs": [
    {
     "data": {
      "text/plain": [
       "array(['G', 'H', 'F', 'J', 'E', 'I', 'D'], dtype=object)"
      ]
     },
     "execution_count": 7,
     "metadata": {},
     "output_type": "execute_result"
    }
   ],
   "source": [
    "train.color.unique()"
   ]
  },
  {
   "cell_type": "markdown",
   "id": "89bf5aaf",
   "metadata": {},
   "source": [
    " ![Imagen](../img/escala-colores-fancy.png)"
   ]
  },
  {
   "cell_type": "code",
   "execution_count": 8,
   "id": "162f573f",
   "metadata": {},
   "outputs": [],
   "source": [
    "cambia_color = {'G':4, 'H':5, 'F':3, 'J':7, 'E':2, 'I':6, 'D':1}"
   ]
  },
  {
   "cell_type": "code",
   "execution_count": 9,
   "id": "0bc2df40",
   "metadata": {},
   "outputs": [
    {
     "data": {
      "text/plain": [
       "array(['VVS2', 'VS2', 'VS1', 'SI2', 'SI1', 'VVS1', 'IF', 'I1'],\n",
       "      dtype=object)"
      ]
     },
     "execution_count": 9,
     "metadata": {},
     "output_type": "execute_result"
    }
   ],
   "source": [
    "train.clarity.unique()"
   ]
  },
  {
   "cell_type": "markdown",
   "id": "c01d0e7a",
   "metadata": {},
   "source": [
    " ![Imagen](../img/escala-gia-claridad-diamantes-1.jpg)"
   ]
  },
  {
   "cell_type": "code",
   "execution_count": 10,
   "id": "1b81fa23",
   "metadata": {},
   "outputs": [],
   "source": [
    "cambia_clarity = {'VVS2':3, 'VS2':5, 'VS1':4, 'SI2':7, 'SI1':6, 'VVS1':2, 'IF':1, 'I1':8}"
   ]
  },
  {
   "cell_type": "code",
   "execution_count": 11,
   "id": "cb444e55",
   "metadata": {},
   "outputs": [
    {
     "data": {
      "text/plain": [
       "array(['Ideal', 'Fair', 'Very Good', 'Premium', 'Good'], dtype=object)"
      ]
     },
     "execution_count": 11,
     "metadata": {},
     "output_type": "execute_result"
    }
   ],
   "source": [
    "train.cut.unique()"
   ]
  },
  {
   "cell_type": "code",
   "execution_count": 12,
   "id": "52639356",
   "metadata": {},
   "outputs": [],
   "source": [
    "cambia_cut = {\"Ideal\":1, \"Premium\":2,\"Very Good\":3,\"Good\":4, \"Fair\":5}"
   ]
  },
  {
   "cell_type": "code",
   "execution_count": 13,
   "id": "16ec66b1",
   "metadata": {},
   "outputs": [],
   "source": [
    "train.color = train.color.replace(cambia_color)\n",
    "train.clarity = train.clarity.replace(cambia_clarity)\n",
    "train.cut = train.cut.replace(cambia_cut)"
   ]
  },
  {
   "cell_type": "code",
   "execution_count": 14,
   "id": "a9364690",
   "metadata": {},
   "outputs": [
    {
     "data": {
      "text/html": [
       "<div>\n",
       "<style scoped>\n",
       "    .dataframe tbody tr th:only-of-type {\n",
       "        vertical-align: middle;\n",
       "    }\n",
       "\n",
       "    .dataframe tbody tr th {\n",
       "        vertical-align: top;\n",
       "    }\n",
       "\n",
       "    .dataframe thead th {\n",
       "        text-align: right;\n",
       "    }\n",
       "</style>\n",
       "<table border=\"1\" class=\"dataframe\">\n",
       "  <thead>\n",
       "    <tr style=\"text-align: right;\">\n",
       "      <th></th>\n",
       "      <th>id</th>\n",
       "      <th>carat</th>\n",
       "      <th>cut</th>\n",
       "      <th>color</th>\n",
       "      <th>clarity</th>\n",
       "      <th>depth</th>\n",
       "      <th>table</th>\n",
       "      <th>x</th>\n",
       "      <th>y</th>\n",
       "      <th>z</th>\n",
       "      <th>price</th>\n",
       "    </tr>\n",
       "  </thead>\n",
       "  <tbody>\n",
       "    <tr>\n",
       "      <th>0</th>\n",
       "      <td>0</td>\n",
       "      <td>1.14</td>\n",
       "      <td>1</td>\n",
       "      <td>4</td>\n",
       "      <td>3</td>\n",
       "      <td>61.0</td>\n",
       "      <td>56.0</td>\n",
       "      <td>6.74</td>\n",
       "      <td>6.76</td>\n",
       "      <td>4.12</td>\n",
       "      <td>9013</td>\n",
       "    </tr>\n",
       "    <tr>\n",
       "      <th>1</th>\n",
       "      <td>1</td>\n",
       "      <td>0.76</td>\n",
       "      <td>1</td>\n",
       "      <td>5</td>\n",
       "      <td>5</td>\n",
       "      <td>62.7</td>\n",
       "      <td>57.0</td>\n",
       "      <td>5.86</td>\n",
       "      <td>5.82</td>\n",
       "      <td>3.66</td>\n",
       "      <td>2692</td>\n",
       "    </tr>\n",
       "    <tr>\n",
       "      <th>2</th>\n",
       "      <td>2</td>\n",
       "      <td>0.84</td>\n",
       "      <td>1</td>\n",
       "      <td>4</td>\n",
       "      <td>4</td>\n",
       "      <td>61.4</td>\n",
       "      <td>56.0</td>\n",
       "      <td>6.04</td>\n",
       "      <td>6.15</td>\n",
       "      <td>3.74</td>\n",
       "      <td>4372</td>\n",
       "    </tr>\n",
       "    <tr>\n",
       "      <th>3</th>\n",
       "      <td>3</td>\n",
       "      <td>1.55</td>\n",
       "      <td>1</td>\n",
       "      <td>5</td>\n",
       "      <td>4</td>\n",
       "      <td>62.0</td>\n",
       "      <td>57.0</td>\n",
       "      <td>7.37</td>\n",
       "      <td>7.43</td>\n",
       "      <td>4.59</td>\n",
       "      <td>13665</td>\n",
       "    </tr>\n",
       "    <tr>\n",
       "      <th>4</th>\n",
       "      <td>4</td>\n",
       "      <td>0.30</td>\n",
       "      <td>1</td>\n",
       "      <td>4</td>\n",
       "      <td>7</td>\n",
       "      <td>61.9</td>\n",
       "      <td>57.0</td>\n",
       "      <td>4.28</td>\n",
       "      <td>4.31</td>\n",
       "      <td>2.66</td>\n",
       "      <td>422</td>\n",
       "    </tr>\n",
       "  </tbody>\n",
       "</table>\n",
       "</div>"
      ],
      "text/plain": [
       "   id  carat  cut  color  clarity  depth  table     x     y     z  price\n",
       "0   0   1.14    1      4        3   61.0   56.0  6.74  6.76  4.12   9013\n",
       "1   1   0.76    1      5        5   62.7   57.0  5.86  5.82  3.66   2692\n",
       "2   2   0.84    1      4        4   61.4   56.0  6.04  6.15  3.74   4372\n",
       "3   3   1.55    1      5        4   62.0   57.0  7.37  7.43  4.59  13665\n",
       "4   4   0.30    1      4        7   61.9   57.0  4.28  4.31  2.66    422"
      ]
     },
     "execution_count": 14,
     "metadata": {},
     "output_type": "execute_result"
    }
   ],
   "source": [
    "train.head()"
   ]
  },
  {
   "cell_type": "code",
   "execution_count": 15,
   "id": "b7341e47",
   "metadata": {},
   "outputs": [
    {
     "data": {
      "text/plain": [
       "<AxesSubplot:>"
      ]
     },
     "execution_count": 15,
     "metadata": {},
     "output_type": "execute_result"
    },
    {
     "data": {
      "image/png": "[encoded data removed]",
      "text/plain": [
       "<Figure size 1152x648 with 2 Axes>"
      ]
     },
     "metadata": {},
     "output_type": "display_data"
    }
   ],
   "source": [
    "sns.heatmap(train.corr(),cmap=\"Spectral\", annot= True)"
   ]
  },
  {
   "cell_type": "code",
   "execution_count": 16,
   "id": "d563efe6",
   "metadata": {},
   "outputs": [
    {
     "data": {
      "text/plain": [
       "(40455, 11)"
      ]
     },
     "execution_count": 16,
     "metadata": {},
     "output_type": "execute_result"
    }
   ],
   "source": [
    "train.shape"
   ]
  },
  {
   "cell_type": "code",
   "execution_count": 17,
   "id": "89a69aa7",
   "metadata": {},
   "outputs": [
    {
     "data": {
      "text/html": [
       "<div>\n",
       "<style scoped>\n",
       "    .dataframe tbody tr th:only-of-type {\n",
       "        vertical-align: middle;\n",
       "    }\n",
       "\n",
       "    .dataframe tbody tr th {\n",
       "        vertical-align: top;\n",
       "    }\n",
       "\n",
       "    .dataframe thead th {\n",
       "        text-align: right;\n",
       "    }\n",
       "</style>\n",
       "<table border=\"1\" class=\"dataframe\">\n",
       "  <thead>\n",
       "    <tr style=\"text-align: right;\">\n",
       "      <th></th>\n",
       "      <th>id</th>\n",
       "      <th>carat</th>\n",
       "      <th>cut</th>\n",
       "      <th>color</th>\n",
       "      <th>clarity</th>\n",
       "      <th>depth</th>\n",
       "      <th>table</th>\n",
       "      <th>x</th>\n",
       "      <th>y</th>\n",
       "      <th>z</th>\n",
       "    </tr>\n",
       "  </thead>\n",
       "  <tbody>\n",
       "    <tr>\n",
       "      <th>0</th>\n",
       "      <td>0</td>\n",
       "      <td>1.14</td>\n",
       "      <td>1</td>\n",
       "      <td>4</td>\n",
       "      <td>3</td>\n",
       "      <td>61.0</td>\n",
       "      <td>56.0</td>\n",
       "      <td>6.74</td>\n",
       "      <td>6.76</td>\n",
       "      <td>4.12</td>\n",
       "    </tr>\n",
       "    <tr>\n",
       "      <th>1</th>\n",
       "      <td>1</td>\n",
       "      <td>0.76</td>\n",
       "      <td>1</td>\n",
       "      <td>5</td>\n",
       "      <td>5</td>\n",
       "      <td>62.7</td>\n",
       "      <td>57.0</td>\n",
       "      <td>5.86</td>\n",
       "      <td>5.82</td>\n",
       "      <td>3.66</td>\n",
       "    </tr>\n",
       "    <tr>\n",
       "      <th>2</th>\n",
       "      <td>2</td>\n",
       "      <td>0.84</td>\n",
       "      <td>1</td>\n",
       "      <td>4</td>\n",
       "      <td>4</td>\n",
       "      <td>61.4</td>\n",
       "      <td>56.0</td>\n",
       "      <td>6.04</td>\n",
       "      <td>6.15</td>\n",
       "      <td>3.74</td>\n",
       "    </tr>\n",
       "    <tr>\n",
       "      <th>3</th>\n",
       "      <td>3</td>\n",
       "      <td>1.55</td>\n",
       "      <td>1</td>\n",
       "      <td>5</td>\n",
       "      <td>4</td>\n",
       "      <td>62.0</td>\n",
       "      <td>57.0</td>\n",
       "      <td>7.37</td>\n",
       "      <td>7.43</td>\n",
       "      <td>4.59</td>\n",
       "    </tr>\n",
       "    <tr>\n",
       "      <th>4</th>\n",
       "      <td>4</td>\n",
       "      <td>0.30</td>\n",
       "      <td>1</td>\n",
       "      <td>4</td>\n",
       "      <td>7</td>\n",
       "      <td>61.9</td>\n",
       "      <td>57.0</td>\n",
       "      <td>4.28</td>\n",
       "      <td>4.31</td>\n",
       "      <td>2.66</td>\n",
       "    </tr>\n",
       "  </tbody>\n",
       "</table>\n",
       "</div>"
      ],
      "text/plain": [
       "   id  carat  cut  color  clarity  depth  table     x     y     z\n",
       "0   0   1.14    1      4        3   61.0   56.0  6.74  6.76  4.12\n",
       "1   1   0.76    1      5        5   62.7   57.0  5.86  5.82  3.66\n",
       "2   2   0.84    1      4        4   61.4   56.0  6.04  6.15  3.74\n",
       "3   3   1.55    1      5        4   62.0   57.0  7.37  7.43  4.59\n",
       "4   4   0.30    1      4        7   61.9   57.0  4.28  4.31  2.66"
      ]
     },
     "execution_count": 17,
     "metadata": {},
     "output_type": "execute_result"
    }
   ],
   "source": [
    "X = train.drop(\"price\", axis=1)\n",
    "X.head()"
   ]
  },
  {
   "cell_type": "code",
   "execution_count": 18,
   "id": "38c59cea",
   "metadata": {},
   "outputs": [
    {
     "data": {
      "text/plain": [
       "0     9013\n",
       "1     2692\n",
       "2     4372\n",
       "3    13665\n",
       "4      422\n",
       "Name: price, dtype: int64"
      ]
     },
     "execution_count": 18,
     "metadata": {},
     "output_type": "execute_result"
    }
   ],
   "source": [
    "y = train.price \n",
    "y.head()"
   ]
  },
  {
   "cell_type": "markdown",
   "id": "c18d3508",
   "metadata": {},
   "source": [
    "## preparo el test"
   ]
  },
  {
   "cell_type": "code",
   "execution_count": 19,
   "id": "627a071e",
   "metadata": {},
   "outputs": [
    {
     "data": {
      "text/html": [
       "<div>\n",
       "<style scoped>\n",
       "    .dataframe tbody tr th:only-of-type {\n",
       "        vertical-align: middle;\n",
       "    }\n",
       "\n",
       "    .dataframe tbody tr th {\n",
       "        vertical-align: top;\n",
       "    }\n",
       "\n",
       "    .dataframe thead th {\n",
       "        text-align: right;\n",
       "    }\n",
       "</style>\n",
       "<table border=\"1\" class=\"dataframe\">\n",
       "  <thead>\n",
       "    <tr style=\"text-align: right;\">\n",
       "      <th></th>\n",
       "      <th>id</th>\n",
       "      <th>carat</th>\n",
       "      <th>cut</th>\n",
       "      <th>color</th>\n",
       "      <th>clarity</th>\n",
       "      <th>depth</th>\n",
       "      <th>table</th>\n",
       "      <th>x</th>\n",
       "      <th>y</th>\n",
       "      <th>z</th>\n",
       "    </tr>\n",
       "  </thead>\n",
       "  <tbody>\n",
       "    <tr>\n",
       "      <th>0</th>\n",
       "      <td>0</td>\n",
       "      <td>1.00</td>\n",
       "      <td>Fair</td>\n",
       "      <td>J</td>\n",
       "      <td>SI2</td>\n",
       "      <td>56.3</td>\n",
       "      <td>64.0</td>\n",
       "      <td>6.58</td>\n",
       "      <td>6.54</td>\n",
       "      <td>3.69</td>\n",
       "    </tr>\n",
       "    <tr>\n",
       "      <th>1</th>\n",
       "      <td>1</td>\n",
       "      <td>0.83</td>\n",
       "      <td>Premium</td>\n",
       "      <td>G</td>\n",
       "      <td>SI1</td>\n",
       "      <td>62.3</td>\n",
       "      <td>58.0</td>\n",
       "      <td>6.01</td>\n",
       "      <td>5.97</td>\n",
       "      <td>3.73</td>\n",
       "    </tr>\n",
       "    <tr>\n",
       "      <th>2</th>\n",
       "      <td>2</td>\n",
       "      <td>1.00</td>\n",
       "      <td>Fair</td>\n",
       "      <td>E</td>\n",
       "      <td>SI2</td>\n",
       "      <td>67.0</td>\n",
       "      <td>53.0</td>\n",
       "      <td>6.19</td>\n",
       "      <td>6.13</td>\n",
       "      <td>4.13</td>\n",
       "    </tr>\n",
       "    <tr>\n",
       "      <th>3</th>\n",
       "      <td>3</td>\n",
       "      <td>1.00</td>\n",
       "      <td>Fair</td>\n",
       "      <td>H</td>\n",
       "      <td>SI2</td>\n",
       "      <td>66.5</td>\n",
       "      <td>62.0</td>\n",
       "      <td>6.19</td>\n",
       "      <td>6.10</td>\n",
       "      <td>4.09</td>\n",
       "    </tr>\n",
       "    <tr>\n",
       "      <th>4</th>\n",
       "      <td>4</td>\n",
       "      <td>1.20</td>\n",
       "      <td>Very Good</td>\n",
       "      <td>I</td>\n",
       "      <td>SI1</td>\n",
       "      <td>62.6</td>\n",
       "      <td>57.0</td>\n",
       "      <td>6.74</td>\n",
       "      <td>6.77</td>\n",
       "      <td>4.23</td>\n",
       "    </tr>\n",
       "  </tbody>\n",
       "</table>\n",
       "</div>"
      ],
      "text/plain": [
       "   id  carat        cut color clarity  depth  table     x     y     z\n",
       "0   0   1.00       Fair     J     SI2   56.3   64.0  6.58  6.54  3.69\n",
       "1   1   0.83    Premium     G     SI1   62.3   58.0  6.01  5.97  3.73\n",
       "2   2   1.00       Fair     E     SI2   67.0   53.0  6.19  6.13  4.13\n",
       "3   3   1.00       Fair     H     SI2   66.5   62.0  6.19  6.10  4.09\n",
       "4   4   1.20  Very Good     I     SI1   62.6   57.0  6.74  6.77  4.23"
      ]
     },
     "execution_count": 19,
     "metadata": {},
     "output_type": "execute_result"
    }
   ],
   "source": [
    "test.head()"
   ]
  },
  {
   "cell_type": "code",
   "execution_count": 20,
   "id": "735d53b0",
   "metadata": {},
   "outputs": [],
   "source": [
    "test.color = test.color.replace(cambia_color)\n",
    "test.clarity = test.clarity.replace(cambia_clarity)\n",
    "test.cut = test.cut.replace(cambia_cut)"
   ]
  },
  {
   "cell_type": "code",
   "execution_count": 21,
   "id": "dcbaf3da",
   "metadata": {},
   "outputs": [
    {
     "data": {
      "text/html": [
       "<div>\n",
       "<style scoped>\n",
       "    .dataframe tbody tr th:only-of-type {\n",
       "        vertical-align: middle;\n",
       "    }\n",
       "\n",
       "    .dataframe tbody tr th {\n",
       "        vertical-align: top;\n",
       "    }\n",
       "\n",
       "    .dataframe thead th {\n",
       "        text-align: right;\n",
       "    }\n",
       "</style>\n",
       "<table border=\"1\" class=\"dataframe\">\n",
       "  <thead>\n",
       "    <tr style=\"text-align: right;\">\n",
       "      <th></th>\n",
       "      <th>id</th>\n",
       "      <th>carat</th>\n",
       "      <th>cut</th>\n",
       "      <th>color</th>\n",
       "      <th>clarity</th>\n",
       "      <th>depth</th>\n",
       "      <th>table</th>\n",
       "      <th>x</th>\n",
       "      <th>y</th>\n",
       "      <th>z</th>\n",
       "    </tr>\n",
       "  </thead>\n",
       "  <tbody>\n",
       "    <tr>\n",
       "      <th>count</th>\n",
       "      <td>13485.000000</td>\n",
       "      <td>13485.000000</td>\n",
       "      <td>13485.000000</td>\n",
       "      <td>13485.000000</td>\n",
       "      <td>13485.000000</td>\n",
       "      <td>13485.000000</td>\n",
       "      <td>13485.000000</td>\n",
       "      <td>13485.000000</td>\n",
       "      <td>13485.000000</td>\n",
       "      <td>13485.000000</td>\n",
       "    </tr>\n",
       "    <tr>\n",
       "      <th>mean</th>\n",
       "      <td>6742.000000</td>\n",
       "      <td>0.796541</td>\n",
       "      <td>2.092918</td>\n",
       "      <td>3.575380</td>\n",
       "      <td>4.957805</td>\n",
       "      <td>61.763241</td>\n",
       "      <td>57.478265</td>\n",
       "      <td>5.724821</td>\n",
       "      <td>5.729782</td>\n",
       "      <td>3.537188</td>\n",
       "    </tr>\n",
       "    <tr>\n",
       "      <th>std</th>\n",
       "      <td>3892.928525</td>\n",
       "      <td>0.475782</td>\n",
       "      <td>1.108828</td>\n",
       "      <td>1.705137</td>\n",
       "      <td>1.636252</td>\n",
       "      <td>1.437858</td>\n",
       "      <td>2.230467</td>\n",
       "      <td>1.126277</td>\n",
       "      <td>1.208193</td>\n",
       "      <td>0.740783</td>\n",
       "    </tr>\n",
       "    <tr>\n",
       "      <th>min</th>\n",
       "      <td>0.000000</td>\n",
       "      <td>0.200000</td>\n",
       "      <td>1.000000</td>\n",
       "      <td>1.000000</td>\n",
       "      <td>1.000000</td>\n",
       "      <td>44.000000</td>\n",
       "      <td>44.000000</td>\n",
       "      <td>0.000000</td>\n",
       "      <td>0.000000</td>\n",
       "      <td>0.000000</td>\n",
       "    </tr>\n",
       "    <tr>\n",
       "      <th>25%</th>\n",
       "      <td>3371.000000</td>\n",
       "      <td>0.400000</td>\n",
       "      <td>1.000000</td>\n",
       "      <td>2.000000</td>\n",
       "      <td>4.000000</td>\n",
       "      <td>61.100000</td>\n",
       "      <td>56.000000</td>\n",
       "      <td>4.710000</td>\n",
       "      <td>4.720000</td>\n",
       "      <td>2.910000</td>\n",
       "    </tr>\n",
       "    <tr>\n",
       "      <th>50%</th>\n",
       "      <td>6742.000000</td>\n",
       "      <td>0.700000</td>\n",
       "      <td>2.000000</td>\n",
       "      <td>4.000000</td>\n",
       "      <td>5.000000</td>\n",
       "      <td>61.900000</td>\n",
       "      <td>57.000000</td>\n",
       "      <td>5.690000</td>\n",
       "      <td>5.700000</td>\n",
       "      <td>3.520000</td>\n",
       "    </tr>\n",
       "    <tr>\n",
       "      <th>75%</th>\n",
       "      <td>10113.000000</td>\n",
       "      <td>1.040000</td>\n",
       "      <td>3.000000</td>\n",
       "      <td>5.000000</td>\n",
       "      <td>6.000000</td>\n",
       "      <td>62.500000</td>\n",
       "      <td>59.000000</td>\n",
       "      <td>6.530000</td>\n",
       "      <td>6.530000</td>\n",
       "      <td>4.030000</td>\n",
       "    </tr>\n",
       "    <tr>\n",
       "      <th>max</th>\n",
       "      <td>13484.000000</td>\n",
       "      <td>4.500000</td>\n",
       "      <td>5.000000</td>\n",
       "      <td>7.000000</td>\n",
       "      <td>8.000000</td>\n",
       "      <td>79.000000</td>\n",
       "      <td>73.000000</td>\n",
       "      <td>10.230000</td>\n",
       "      <td>58.900000</td>\n",
       "      <td>31.800000</td>\n",
       "    </tr>\n",
       "  </tbody>\n",
       "</table>\n",
       "</div>"
      ],
      "text/plain": [
       "                 id         carat           cut         color       clarity  \\\n",
       "count  13485.000000  13485.000000  13485.000000  13485.000000  13485.000000   \n",
       "mean    6742.000000      0.796541      2.092918      3.575380      4.957805   \n",
       "std     3892.928525      0.475782      1.108828      1.705137      1.636252   \n",
       "min        0.000000      0.200000      1.000000      1.000000      1.000000   \n",
       "25%     3371.000000      0.400000      1.000000      2.000000      4.000000   \n",
       "50%     6742.000000      0.700000      2.000000      4.000000      5.000000   \n",
       "75%    10113.000000      1.040000      3.000000      5.000000      6.000000   \n",
       "max    13484.000000      4.500000      5.000000      7.000000      8.000000   \n",
       "\n",
       "              depth         table             x             y             z  \n",
       "count  13485.000000  13485.000000  13485.000000  13485.000000  13485.000000  \n",
       "mean      61.763241     57.478265      5.724821      5.729782      3.537188  \n",
       "std        1.437858      2.230467      1.126277      1.208193      0.740783  \n",
       "min       44.000000     44.000000      0.000000      0.000000      0.000000  \n",
       "25%       61.100000     56.000000      4.710000      4.720000      2.910000  \n",
       "50%       61.900000     57.000000      5.690000      5.700000      3.520000  \n",
       "75%       62.500000     59.000000      6.530000      6.530000      4.030000  \n",
       "max       79.000000     73.000000     10.230000     58.900000     31.800000  "
      ]
     },
     "execution_count": 21,
     "metadata": {},
     "output_type": "execute_result"
    }
   ],
   "source": [
    "test.describe()"
   ]
  },
  {
   "cell_type": "code",
   "execution_count": 22,
   "id": "bbb4c0ac",
   "metadata": {},
   "outputs": [],
   "source": []
  },
  {
   "cell_type": "code",
   "execution_count": 23,
   "id": "49236e40",
   "metadata": {},
   "outputs": [
    {
     "data": {
      "text/plain": [
       "(13485, 10)"
      ]
     },
     "execution_count": 23,
     "metadata": {},
     "output_type": "execute_result"
    }
   ],
   "source": [
    "X_test.shape"
   ]
  },
  {
   "cell_type": "markdown",
   "id": "68582f52",
   "metadata": {},
   "source": [
    "## Entreno varios modelos a ciegas por ver que funciona kaggle"
   ]
  },
  {
   "cell_type": "code",
   "execution_count": 24,
   "id": "7568a9fd",
   "metadata": {},
   "outputs": [],
   "source": [
    "X_train1, X_test1, y_train1, y_test1 = tts(X,y, test_size=0.2)"
   ]
  },
  {
   "cell_type": "code",
   "execution_count": 25,
   "id": "ef6f4987",
   "metadata": {},
   "outputs": [],
   "source": [
    "models={\n",
    "    'linear': LinearRegression(),\n",
    "    'ridge': Ridge(),\n",
    "    'lasso': Lasso(),\n",
    "    'sgd': SGDRegressor(),\n",
    "    'knn': KNeighborsRegressor(),\n",
    "    'grad': GradientBoostingRegressor(),\n",
    "}"
   ]
  },
  {
   "cell_type": "code",
   "execution_count": 26,
   "id": "2124a6d2",
   "metadata": {},
   "outputs": [
    {
     "name": "stdout",
     "output_type": "stream",
     "text": [
      "ENTRENANDO:  linear\n",
      "ENTRENANDO:  ridge\n",
      "ENTRENANDO:  lasso\n",
      "ENTRENANDO:  sgd\n",
      "ENTRENANDO:  knn\n",
      "ENTRENANDO:  grad\n"
     ]
    }
   ],
   "source": [
    "for name, model in models.items():\n",
    "    print(\"ENTRENANDO: \", name)\n",
    "    model.fit(X_train1, y_train1)"
   ]
  },
  {
   "cell_type": "code",
   "execution_count": 29,
   "id": "650f2740",
   "metadata": {},
   "outputs": [
    {
     "name": "stdout",
     "output_type": "stream",
     "text": [
      "------linear------\n",
      "MAE -  803.7110384204858\n",
      "MSE -  1482926.3582533335\n",
      "RMSE -  1217.7546379518878\n",
      "R2 -  0.9095527644241558\n",
      "------ridge------\n",
      "MAE -  804.1555217200233\n",
      "MSE -  1482364.8593553265\n",
      "RMSE -  1217.5240693125236\n",
      "R2 -  0.9095870115887712\n",
      "------lasso------\n",
      "MAE -  805.5666533443537\n",
      "MSE -  1480417.4900662364\n",
      "RMSE -  1216.7240813209198\n",
      "R2 -  0.9097057863127238\n",
      "------sgd------\n",
      "MAE -  3.680627575370604e+16\n",
      "MSE -  1.8118000280703156e+33\n",
      "RMSE -  4.256524436756255e+16\n",
      "R2 -  -1.1050602954297346e+26\n",
      "------knn------\n",
      "MAE -  2716.0912866147573\n",
      "MSE -  14328044.084078606\n",
      "RMSE -  3785.2402941000464\n",
      "R2 -  0.12609822369051882\n",
      "------grad------\n",
      "MAE -  343.61252802682066\n",
      "MSE -  377005.1107589983\n",
      "RMSE -  614.0074191400282\n",
      "R2 -  0.9770055540004832\n"
     ]
    }
   ],
   "source": [
    "#Podemos seguir el mismo proceso para realizar predicciones de cada algoritmo y sacar métricas\n",
    "for name, model in models.items():\n",
    "    y_pred1 = model.predict(X_test1)\n",
    "    print(f\"------{name}------\")\n",
    "    print('MAE - ', metrics.mean_absolute_error(y_test1, y_pred1))\n",
    "    print('MSE - ', metrics.mean_squared_error(y_test1, y_pred1))\n",
    "    print('RMSE - ', np.sqrt(metrics.mean_squared_error(y_test1, y_pred1)))\n",
    "    print('R2 - ', metrics.r2_score(y_test1, y_pred1))"
   ]
  },
  {
   "cell_type": "markdown",
   "id": "32449c72",
   "metadata": {},
   "source": [
    "En esta ocasion considero el mejor el grad, voy ha hacer una submision con el por el vacile, pero creo que se purede seguir rascando de los datos. "
   ]
  },
  {
   "cell_type": "code",
   "execution_count": 30,
   "id": "8e29869a",
   "metadata": {},
   "outputs": [
    {
     "data": {
      "text/plain": [
       "GradientBoostingRegressor()"
      ]
     },
     "execution_count": 30,
     "metadata": {},
     "output_type": "execute_result"
    }
   ],
   "source": [
    "grad = GradientBoostingRegressor()\n",
    "grad"
   ]
  },
  {
   "cell_type": "markdown",
   "id": "ee0c90fe",
   "metadata": {},
   "source": [
    "Lo entreno con todos mis valores"
   ]
  },
  {
   "cell_type": "code",
   "execution_count": 31,
   "id": "63be2698",
   "metadata": {},
   "outputs": [
    {
     "data": {
      "text/plain": [
       "GradientBoostingRegressor()"
      ]
     },
     "execution_count": 31,
     "metadata": {},
     "output_type": "execute_result"
    }
   ],
   "source": [
    "grad.fit(X, y)"
   ]
  },
  {
   "cell_type": "code",
   "execution_count": 32,
   "id": "e40456e4",
   "metadata": {},
   "outputs": [],
   "source": [
    "y_pred_1 = grad.predict(test)"
   ]
  },
  {
   "cell_type": "code",
   "execution_count": 33,
   "id": "6bc70ad8",
   "metadata": {},
   "outputs": [
    {
     "data": {
      "text/plain": [
       "array([2865.05121414, 2986.57682568, 4096.58620544, ..., 7488.90448758,\n",
       "        503.03151434, 1069.2388063 ])"
      ]
     },
     "execution_count": 33,
     "metadata": {},
     "output_type": "execute_result"
    }
   ],
   "source": [
    "y_pred_1"
   ]
  },
  {
   "cell_type": "code",
   "execution_count": 34,
   "id": "7dddbbd9",
   "metadata": {},
   "outputs": [
    {
     "data": {
      "text/plain": [
       "13485"
      ]
     },
     "execution_count": 34,
     "metadata": {},
     "output_type": "execute_result"
    }
   ],
   "source": [
    "len(y_pred_1)"
   ]
  },
  {
   "cell_type": "code",
   "execution_count": 35,
   "id": "0ef7d359",
   "metadata": {},
   "outputs": [],
   "source": [
    "mysub_1 = pd.DataFrame(y_pred_1)"
   ]
  },
  {
   "cell_type": "code",
   "execution_count": 36,
   "id": "4ce9cc08",
   "metadata": {},
   "outputs": [],
   "source": [
    "mysub_1 = mysub_1.reset_index()"
   ]
  },
  {
   "cell_type": "code",
   "execution_count": 37,
   "id": "cb75d5f1",
   "metadata": {},
   "outputs": [],
   "source": [
    "mysub_1.columns = ['id', 'price']"
   ]
  },
  {
   "cell_type": "code",
   "execution_count": 38,
   "id": "cb2ab9f2",
   "metadata": {},
   "outputs": [
    {
     "name": "stdout",
     "output_type": "stream",
     "text": [
      "<class 'pandas.core.frame.DataFrame'>\n",
      "RangeIndex: 13485 entries, 0 to 13484\n",
      "Data columns (total 2 columns):\n",
      " #   Column  Non-Null Count  Dtype  \n",
      "---  ------  --------------  -----  \n",
      " 0   id      13485 non-null  int64  \n",
      " 1   price   13485 non-null  float64\n",
      "dtypes: float64(1), int64(1)\n",
      "memory usage: 210.8 KB\n"
     ]
    }
   ],
   "source": [
    "mysub_1.info()"
   ]
  },
  {
   "cell_type": "code",
   "execution_count": 39,
   "id": "cbf0eaf9",
   "metadata": {},
   "outputs": [],
   "source": [
    "mysub_1.to_csv('../data/mysub_1_normal.csv', index = False)"
   ]
  },
  {
   "cell_type": "code",
   "execution_count": null,
   "id": "93e0d2a5",
   "metadata": {},
   "outputs": [],
   "source": [
    "help(GradientBoostingRegressor())"
   ]
  },
  {
   "cell_type": "markdown",
   "id": "1b6ef96a",
   "metadata": {},
   "source": [
    "## Ecuentro problemas en kaggle submision, escribo a Ana en la noche, ella y Jean lo solucionan en la morning , creando una nueva competicion, ahora todo funciona. "
   ]
  },
  {
   "cell_type": "markdown",
   "id": "97318f08",
   "metadata": {},
   "source": [
    "\n",
    "### vamos a ver si quitando todas  las columna colineales va mejor\n"
   ]
  },
  {
   "cell_type": "code",
   "execution_count": 41,
   "id": "7da05d79",
   "metadata": {},
   "outputs": [],
   "source": [
    "X2 = train.drop([\"id\", \"carat\",'x', 'y', 'z', 'price'], axis=1)"
   ]
  },
  {
   "cell_type": "code",
   "execution_count": 42,
   "id": "d9fd68f2",
   "metadata": {},
   "outputs": [
    {
     "data": {
      "text/html": [
       "<div>\n",
       "<style scoped>\n",
       "    .dataframe tbody tr th:only-of-type {\n",
       "        vertical-align: middle;\n",
       "    }\n",
       "\n",
       "    .dataframe tbody tr th {\n",
       "        vertical-align: top;\n",
       "    }\n",
       "\n",
       "    .dataframe thead th {\n",
       "        text-align: right;\n",
       "    }\n",
       "</style>\n",
       "<table border=\"1\" class=\"dataframe\">\n",
       "  <thead>\n",
       "    <tr style=\"text-align: right;\">\n",
       "      <th></th>\n",
       "      <th>cut</th>\n",
       "      <th>color</th>\n",
       "      <th>clarity</th>\n",
       "      <th>depth</th>\n",
       "      <th>table</th>\n",
       "    </tr>\n",
       "  </thead>\n",
       "  <tbody>\n",
       "    <tr>\n",
       "      <th>0</th>\n",
       "      <td>1</td>\n",
       "      <td>4</td>\n",
       "      <td>3</td>\n",
       "      <td>61.0</td>\n",
       "      <td>56.0</td>\n",
       "    </tr>\n",
       "    <tr>\n",
       "      <th>1</th>\n",
       "      <td>1</td>\n",
       "      <td>5</td>\n",
       "      <td>5</td>\n",
       "      <td>62.7</td>\n",
       "      <td>57.0</td>\n",
       "    </tr>\n",
       "    <tr>\n",
       "      <th>2</th>\n",
       "      <td>1</td>\n",
       "      <td>4</td>\n",
       "      <td>4</td>\n",
       "      <td>61.4</td>\n",
       "      <td>56.0</td>\n",
       "    </tr>\n",
       "    <tr>\n",
       "      <th>3</th>\n",
       "      <td>1</td>\n",
       "      <td>5</td>\n",
       "      <td>4</td>\n",
       "      <td>62.0</td>\n",
       "      <td>57.0</td>\n",
       "    </tr>\n",
       "    <tr>\n",
       "      <th>4</th>\n",
       "      <td>1</td>\n",
       "      <td>4</td>\n",
       "      <td>7</td>\n",
       "      <td>61.9</td>\n",
       "      <td>57.0</td>\n",
       "    </tr>\n",
       "  </tbody>\n",
       "</table>\n",
       "</div>"
      ],
      "text/plain": [
       "   cut  color  clarity  depth  table\n",
       "0    1      4        3   61.0   56.0\n",
       "1    1      5        5   62.7   57.0\n",
       "2    1      4        4   61.4   56.0\n",
       "3    1      5        4   62.0   57.0\n",
       "4    1      4        7   61.9   57.0"
      ]
     },
     "execution_count": 42,
     "metadata": {},
     "output_type": "execute_result"
    }
   ],
   "source": [
    "X2.head()"
   ]
  },
  {
   "cell_type": "code",
   "execution_count": 43,
   "id": "f6177cc3",
   "metadata": {},
   "outputs": [],
   "source": [
    "X_train2, X_test2, y_train2, y_test2 = tts(X2,y, test_size=0.2)"
   ]
  },
  {
   "cell_type": "code",
   "execution_count": 44,
   "id": "1d7b85be",
   "metadata": {},
   "outputs": [],
   "source": [
    "models={\n",
    "    'linear': LinearRegression(),\n",
    "    'ridge': Ridge(),\n",
    "    'lasso': Lasso(),\n",
    "    'sgd': SGDRegressor(),\n",
    "    'knn': KNeighborsRegressor(),\n",
    "    'grad': GradientBoostingRegressor(),\n",
    "}"
   ]
  },
  {
   "cell_type": "code",
   "execution_count": 45,
   "id": "07666bbc",
   "metadata": {},
   "outputs": [
    {
     "name": "stdout",
     "output_type": "stream",
     "text": [
      "ENTRENANDO:  linear\n",
      "ENTRENANDO:  ridge\n",
      "ENTRENANDO:  lasso\n",
      "ENTRENANDO:  sgd\n",
      "ENTRENANDO:  knn\n",
      "ENTRENANDO:  grad\n"
     ]
    }
   ],
   "source": [
    "for name, model in models.items():\n",
    "    print(\"ENTRENANDO: \", name)\n",
    "    model.fit(X_train2, y_train2)"
   ]
  },
  {
   "cell_type": "code",
   "execution_count": 47,
   "id": "1d116954",
   "metadata": {},
   "outputs": [
    {
     "name": "stdout",
     "output_type": "stream",
     "text": [
      "------linear------\n",
      "MAE -   2861.9008021170816\n",
      "MSE -   15075511.212190866\n",
      "RMSE -  3882.719563938512\n",
      "R2 -    0.06396259825423334\n",
      "------ridge------\n",
      "MAE -   2861.901665968843\n",
      "MSE -   15075511.954625469\n",
      "RMSE -  3882.7196595460596\n",
      "R2 -    0.06396255215652258\n",
      "------lasso------\n",
      "MAE -   2861.9947539996465\n",
      "MSE -   15075709.720161568\n",
      "RMSE -  3882.745126860836\n",
      "R2 -    0.06395027290867739\n",
      "------sgd------\n",
      "MAE -   41347074.03205846\n",
      "MSE -   2954533271564939.0\n",
      "RMSE -  54355618.58322412\n",
      "R2 -    -183446756.32460007\n",
      "------knn------\n",
      "MAE -   2908.295513533556\n",
      "MSE -   16468507.072188852\n",
      "RMSE -  4058.1408393732286\n",
      "R2 -    -0.022528414029364896\n",
      "------grad------\n",
      "MAE -   2807.6662912708075\n",
      "MSE -   14613577.667584958\n",
      "RMSE -  3822.770941030205\n",
      "R2 -    0.09264401865757443\n"
     ]
    }
   ],
   "source": [
    "for name, model in models.items():\n",
    "    y_pred2 = model.predict(X_test2)\n",
    "    print(f\"------{name}------\")\n",
    "    print('MAE -  ', metrics.mean_absolute_error(y_test2, y_pred2))\n",
    "    print('MSE -  ', metrics.mean_squared_error(y_test2, y_pred2))\n",
    "    print('RMSE - ', np.sqrt(metrics.mean_squared_error(y_test2, y_pred2)))\n",
    "    print('R2 -   ', metrics.r2_score(y_test2, y_pred2))"
   ]
  },
  {
   "cell_type": "markdown",
   "id": "d70a0808",
   "metadata": {},
   "source": [
    "## parece que no funciona bien, los valores se desmadran... \n"
   ]
  },
  {
   "cell_type": "code",
   "execution_count": 48,
   "id": "b53e276d",
   "metadata": {},
   "outputs": [],
   "source": [
    "from sklearn.tree import DecisionTreeRegressor"
   ]
  },
  {
   "cell_type": "code",
   "execution_count": 76,
   "id": "a1c9f729",
   "metadata": {},
   "outputs": [],
   "source": [
    "tree_reg = DecisionTreeRegressor(max_depth=8)"
   ]
  },
  {
   "cell_type": "code",
   "execution_count": 77,
   "id": "6a394651",
   "metadata": {},
   "outputs": [],
   "source": [
    "X3 = X.drop('id', axis=1)"
   ]
  },
  {
   "cell_type": "code",
   "execution_count": 78,
   "id": "0ef93bd6",
   "metadata": {},
   "outputs": [],
   "source": [
    "y3 = y"
   ]
  },
  {
   "cell_type": "code",
   "execution_count": 79,
   "id": "b9f4fb02",
   "metadata": {},
   "outputs": [
    {
     "data": {
      "text/html": [
       "<div>\n",
       "<style scoped>\n",
       "    .dataframe tbody tr th:only-of-type {\n",
       "        vertical-align: middle;\n",
       "    }\n",
       "\n",
       "    .dataframe tbody tr th {\n",
       "        vertical-align: top;\n",
       "    }\n",
       "\n",
       "    .dataframe thead th {\n",
       "        text-align: right;\n",
       "    }\n",
       "</style>\n",
       "<table border=\"1\" class=\"dataframe\">\n",
       "  <thead>\n",
       "    <tr style=\"text-align: right;\">\n",
       "      <th></th>\n",
       "      <th>carat</th>\n",
       "      <th>cut</th>\n",
       "      <th>color</th>\n",
       "      <th>clarity</th>\n",
       "      <th>depth</th>\n",
       "      <th>table</th>\n",
       "      <th>x</th>\n",
       "      <th>y</th>\n",
       "      <th>z</th>\n",
       "    </tr>\n",
       "  </thead>\n",
       "  <tbody>\n",
       "    <tr>\n",
       "      <th>19219</th>\n",
       "      <td>0.31</td>\n",
       "      <td>2</td>\n",
       "      <td>4</td>\n",
       "      <td>2</td>\n",
       "      <td>60.7</td>\n",
       "      <td>58.0</td>\n",
       "      <td>4.37</td>\n",
       "      <td>4.4</td>\n",
       "      <td>2.66</td>\n",
       "    </tr>\n",
       "  </tbody>\n",
       "</table>\n",
       "</div>"
      ],
      "text/plain": [
       "       carat  cut  color  clarity  depth  table     x    y     z\n",
       "19219   0.31    2      4        2   60.7   58.0  4.37  4.4  2.66"
      ]
     },
     "execution_count": 79,
     "metadata": {},
     "output_type": "execute_result"
    }
   ],
   "source": [
    "X3.sample(1)"
   ]
  },
  {
   "cell_type": "code",
   "execution_count": 101,
   "id": "c42eeff7",
   "metadata": {},
   "outputs": [],
   "source": [
    "X3 = train.drop([\"carat\",'x', 'y', 'z'], axis=1)"
   ]
  },
  {
   "cell_type": "code",
   "execution_count": 102,
   "id": "b862d4fb",
   "metadata": {},
   "outputs": [
    {
     "data": {
      "text/html": [
       "<div>\n",
       "<style scoped>\n",
       "    .dataframe tbody tr th:only-of-type {\n",
       "        vertical-align: middle;\n",
       "    }\n",
       "\n",
       "    .dataframe tbody tr th {\n",
       "        vertical-align: top;\n",
       "    }\n",
       "\n",
       "    .dataframe thead th {\n",
       "        text-align: right;\n",
       "    }\n",
       "</style>\n",
       "<table border=\"1\" class=\"dataframe\">\n",
       "  <thead>\n",
       "    <tr style=\"text-align: right;\">\n",
       "      <th></th>\n",
       "      <th>id</th>\n",
       "      <th>cut</th>\n",
       "      <th>color</th>\n",
       "      <th>clarity</th>\n",
       "      <th>depth</th>\n",
       "      <th>table</th>\n",
       "      <th>price</th>\n",
       "    </tr>\n",
       "  </thead>\n",
       "  <tbody>\n",
       "    <tr>\n",
       "      <th>0</th>\n",
       "      <td>0</td>\n",
       "      <td>1</td>\n",
       "      <td>4</td>\n",
       "      <td>3</td>\n",
       "      <td>61.0</td>\n",
       "      <td>56.0</td>\n",
       "      <td>9013</td>\n",
       "    </tr>\n",
       "    <tr>\n",
       "      <th>1</th>\n",
       "      <td>1</td>\n",
       "      <td>1</td>\n",
       "      <td>5</td>\n",
       "      <td>5</td>\n",
       "      <td>62.7</td>\n",
       "      <td>57.0</td>\n",
       "      <td>2692</td>\n",
       "    </tr>\n",
       "    <tr>\n",
       "      <th>2</th>\n",
       "      <td>2</td>\n",
       "      <td>1</td>\n",
       "      <td>4</td>\n",
       "      <td>4</td>\n",
       "      <td>61.4</td>\n",
       "      <td>56.0</td>\n",
       "      <td>4372</td>\n",
       "    </tr>\n",
       "    <tr>\n",
       "      <th>3</th>\n",
       "      <td>3</td>\n",
       "      <td>1</td>\n",
       "      <td>5</td>\n",
       "      <td>4</td>\n",
       "      <td>62.0</td>\n",
       "      <td>57.0</td>\n",
       "      <td>13665</td>\n",
       "    </tr>\n",
       "    <tr>\n",
       "      <th>4</th>\n",
       "      <td>4</td>\n",
       "      <td>1</td>\n",
       "      <td>4</td>\n",
       "      <td>7</td>\n",
       "      <td>61.9</td>\n",
       "      <td>57.0</td>\n",
       "      <td>422</td>\n",
       "    </tr>\n",
       "    <tr>\n",
       "      <th>...</th>\n",
       "      <td>...</td>\n",
       "      <td>...</td>\n",
       "      <td>...</td>\n",
       "      <td>...</td>\n",
       "      <td>...</td>\n",
       "      <td>...</td>\n",
       "      <td>...</td>\n",
       "    </tr>\n",
       "    <tr>\n",
       "      <th>40450</th>\n",
       "      <td>40450</td>\n",
       "      <td>1</td>\n",
       "      <td>2</td>\n",
       "      <td>2</td>\n",
       "      <td>60.8</td>\n",
       "      <td>57.0</td>\n",
       "      <td>1278</td>\n",
       "    </tr>\n",
       "    <tr>\n",
       "      <th>40451</th>\n",
       "      <td>40451</td>\n",
       "      <td>1</td>\n",
       "      <td>7</td>\n",
       "      <td>7</td>\n",
       "      <td>61.6</td>\n",
       "      <td>55.0</td>\n",
       "      <td>924</td>\n",
       "    </tr>\n",
       "    <tr>\n",
       "      <th>40452</th>\n",
       "      <td>40452</td>\n",
       "      <td>3</td>\n",
       "      <td>2</td>\n",
       "      <td>6</td>\n",
       "      <td>59.4</td>\n",
       "      <td>63.0</td>\n",
       "      <td>5322</td>\n",
       "    </tr>\n",
       "    <tr>\n",
       "      <th>40453</th>\n",
       "      <td>40453</td>\n",
       "      <td>3</td>\n",
       "      <td>2</td>\n",
       "      <td>4</td>\n",
       "      <td>62.9</td>\n",
       "      <td>56.0</td>\n",
       "      <td>1942</td>\n",
       "    </tr>\n",
       "    <tr>\n",
       "      <th>40454</th>\n",
       "      <td>40454</td>\n",
       "      <td>4</td>\n",
       "      <td>7</td>\n",
       "      <td>5</td>\n",
       "      <td>57.2</td>\n",
       "      <td>64.0</td>\n",
       "      <td>11576</td>\n",
       "    </tr>\n",
       "  </tbody>\n",
       "</table>\n",
       "<p>40455 rows × 7 columns</p>\n",
       "</div>"
      ],
      "text/plain": [
       "          id  cut  color  clarity  depth  table  price\n",
       "0          0    1      4        3   61.0   56.0   9013\n",
       "1          1    1      5        5   62.7   57.0   2692\n",
       "2          2    1      4        4   61.4   56.0   4372\n",
       "3          3    1      5        4   62.0   57.0  13665\n",
       "4          4    1      4        7   61.9   57.0    422\n",
       "...      ...  ...    ...      ...    ...    ...    ...\n",
       "40450  40450    1      2        2   60.8   57.0   1278\n",
       "40451  40451    1      7        7   61.6   55.0    924\n",
       "40452  40452    3      2        6   59.4   63.0   5322\n",
       "40453  40453    3      2        4   62.9   56.0   1942\n",
       "40454  40454    4      7        5   57.2   64.0  11576\n",
       "\n",
       "[40455 rows x 7 columns]"
      ]
     },
     "execution_count": 102,
     "metadata": {},
     "output_type": "execute_result"
    }
   ],
   "source": [
    "X3"
   ]
  },
  {
   "cell_type": "code",
   "execution_count": 103,
   "id": "a4c84e81",
   "metadata": {},
   "outputs": [],
   "source": [
    "X_train3, X_test3, y_train3, y_test3 = tts(X3,y3, test_size=0.2)"
   ]
  },
  {
   "cell_type": "code",
   "execution_count": 104,
   "id": "1b74f166",
   "metadata": {},
   "outputs": [
    {
     "data": {
      "text/plain": [
       "DecisionTreeRegressor(max_depth=20)"
      ]
     },
     "execution_count": 104,
     "metadata": {},
     "output_type": "execute_result"
    }
   ],
   "source": [
    "tree_reg.fit(X_train3, y_train3)"
   ]
  },
  {
   "cell_type": "code",
   "execution_count": 105,
   "id": "60628072",
   "metadata": {},
   "outputs": [],
   "source": [
    "y_pred3 = tree_reg.predict(X_test3)"
   ]
  },
  {
   "cell_type": "code",
   "execution_count": 106,
   "id": "4cf80a02",
   "metadata": {},
   "outputs": [
    {
     "data": {
      "text/plain": [
       "2.942652329749104"
      ]
     },
     "execution_count": 106,
     "metadata": {},
     "output_type": "execute_result"
    }
   ],
   "source": [
    "metrics.mean_squared_error(y_test3, y_pred3)"
   ]
  },
  {
   "cell_type": "code",
   "execution_count": 107,
   "id": "29e586c1",
   "metadata": {},
   "outputs": [],
   "source": [
    "results = []\n",
    "\n",
    "for depth in range(1,21):\n",
    "    tree_reg = DecisionTreeRegressor(max_depth=depth)\n",
    "    tree_reg.fit(X_train3,y_train3)\n",
    "    \n",
    "    result = {\n",
    "        \"model\": tree_reg,\n",
    "        \"depth\": depth,\n",
    "        \"train_error\": metrics.mean_squared_error(y_train3, tree_reg.predict(X_train3)),\n",
    "        \"test_error\": metrics.mean_squared_error(y_test3, tree_reg.predict(X_test3))\n",
    "    }\n",
    "    results.append(result)"
   ]
  },
  {
   "cell_type": "code",
   "execution_count": 108,
   "id": "5290762a",
   "metadata": {},
   "outputs": [],
   "source": [
    "df = pd.DataFrame(results)"
   ]
  },
  {
   "cell_type": "code",
   "execution_count": 109,
   "id": "87ebb8ec",
   "metadata": {},
   "outputs": [
    {
     "data": {
      "text/html": [
       "<div>\n",
       "<style scoped>\n",
       "    .dataframe tbody tr th:only-of-type {\n",
       "        vertical-align: middle;\n",
       "    }\n",
       "\n",
       "    .dataframe tbody tr th {\n",
       "        vertical-align: top;\n",
       "    }\n",
       "\n",
       "    .dataframe thead th {\n",
       "        text-align: right;\n",
       "    }\n",
       "</style>\n",
       "<table border=\"1\" class=\"dataframe\">\n",
       "  <thead>\n",
       "    <tr style=\"text-align: right;\">\n",
       "      <th></th>\n",
       "      <th>model</th>\n",
       "      <th>depth</th>\n",
       "      <th>train_error</th>\n",
       "      <th>test_error</th>\n",
       "    </tr>\n",
       "  </thead>\n",
       "  <tbody>\n",
       "    <tr>\n",
       "      <th>0</th>\n",
       "      <td>DecisionTreeRegressor(max_depth=1)</td>\n",
       "      <td>1</td>\n",
       "      <td>4.532147e+06</td>\n",
       "      <td>4.591676e+06</td>\n",
       "    </tr>\n",
       "    <tr>\n",
       "      <th>1</th>\n",
       "      <td>DecisionTreeRegressor(max_depth=2)</td>\n",
       "      <td>2</td>\n",
       "      <td>1.069014e+06</td>\n",
       "      <td>1.059627e+06</td>\n",
       "    </tr>\n",
       "    <tr>\n",
       "      <th>2</th>\n",
       "      <td>DecisionTreeRegressor(max_depth=3)</td>\n",
       "      <td>3</td>\n",
       "      <td>2.594777e+05</td>\n",
       "      <td>2.678688e+05</td>\n",
       "    </tr>\n",
       "    <tr>\n",
       "      <th>3</th>\n",
       "      <td>DecisionTreeRegressor(max_depth=4)</td>\n",
       "      <td>4</td>\n",
       "      <td>6.486328e+04</td>\n",
       "      <td>6.649428e+04</td>\n",
       "    </tr>\n",
       "    <tr>\n",
       "      <th>4</th>\n",
       "      <td>DecisionTreeRegressor(max_depth=5)</td>\n",
       "      <td>5</td>\n",
       "      <td>1.653492e+04</td>\n",
       "      <td>1.680887e+04</td>\n",
       "    </tr>\n",
       "    <tr>\n",
       "      <th>5</th>\n",
       "      <td>DecisionTreeRegressor(max_depth=6)</td>\n",
       "      <td>6</td>\n",
       "      <td>4.093329e+03</td>\n",
       "      <td>4.143855e+03</td>\n",
       "    </tr>\n",
       "    <tr>\n",
       "      <th>6</th>\n",
       "      <td>DecisionTreeRegressor(max_depth=7)</td>\n",
       "      <td>7</td>\n",
       "      <td>1.025254e+03</td>\n",
       "      <td>1.076458e+03</td>\n",
       "    </tr>\n",
       "    <tr>\n",
       "      <th>7</th>\n",
       "      <td>DecisionTreeRegressor(max_depth=8)</td>\n",
       "      <td>8</td>\n",
       "      <td>2.558448e+02</td>\n",
       "      <td>2.765148e+02</td>\n",
       "    </tr>\n",
       "    <tr>\n",
       "      <th>8</th>\n",
       "      <td>DecisionTreeRegressor(max_depth=9)</td>\n",
       "      <td>9</td>\n",
       "      <td>6.056011e+01</td>\n",
       "      <td>6.972620e+01</td>\n",
       "    </tr>\n",
       "    <tr>\n",
       "      <th>9</th>\n",
       "      <td>DecisionTreeRegressor(max_depth=10)</td>\n",
       "      <td>10</td>\n",
       "      <td>1.417467e+01</td>\n",
       "      <td>1.813135e+01</td>\n",
       "    </tr>\n",
       "    <tr>\n",
       "      <th>10</th>\n",
       "      <td>DecisionTreeRegressor(max_depth=11)</td>\n",
       "      <td>11</td>\n",
       "      <td>3.090616e+00</td>\n",
       "      <td>5.675293e+00</td>\n",
       "    </tr>\n",
       "    <tr>\n",
       "      <th>11</th>\n",
       "      <td>DecisionTreeRegressor(max_depth=12)</td>\n",
       "      <td>12</td>\n",
       "      <td>5.877861e-01</td>\n",
       "      <td>2.964792e+00</td>\n",
       "    </tr>\n",
       "    <tr>\n",
       "      <th>12</th>\n",
       "      <td>DecisionTreeRegressor(max_depth=13)</td>\n",
       "      <td>13</td>\n",
       "      <td>8.667843e-02</td>\n",
       "      <td>2.769355e+00</td>\n",
       "    </tr>\n",
       "    <tr>\n",
       "      <th>13</th>\n",
       "      <td>DecisionTreeRegressor(max_depth=14)</td>\n",
       "      <td>14</td>\n",
       "      <td>3.353322e-03</td>\n",
       "      <td>2.635231e+00</td>\n",
       "    </tr>\n",
       "    <tr>\n",
       "      <th>14</th>\n",
       "      <td>DecisionTreeRegressor(max_depth=15)</td>\n",
       "      <td>15</td>\n",
       "      <td>0.000000e+00</td>\n",
       "      <td>2.976517e+00</td>\n",
       "    </tr>\n",
       "    <tr>\n",
       "      <th>15</th>\n",
       "      <td>DecisionTreeRegressor(max_depth=16)</td>\n",
       "      <td>16</td>\n",
       "      <td>0.000000e+00</td>\n",
       "      <td>3.013966e+00</td>\n",
       "    </tr>\n",
       "    <tr>\n",
       "      <th>16</th>\n",
       "      <td>DecisionTreeRegressor(max_depth=17)</td>\n",
       "      <td>17</td>\n",
       "      <td>0.000000e+00</td>\n",
       "      <td>2.761216e+00</td>\n",
       "    </tr>\n",
       "    <tr>\n",
       "      <th>17</th>\n",
       "      <td>DecisionTreeRegressor(max_depth=18)</td>\n",
       "      <td>18</td>\n",
       "      <td>0.000000e+00</td>\n",
       "      <td>2.870968e+00</td>\n",
       "    </tr>\n",
       "    <tr>\n",
       "      <th>18</th>\n",
       "      <td>DecisionTreeRegressor(max_depth=19)</td>\n",
       "      <td>19</td>\n",
       "      <td>0.000000e+00</td>\n",
       "      <td>2.948214e+00</td>\n",
       "    </tr>\n",
       "    <tr>\n",
       "      <th>19</th>\n",
       "      <td>DecisionTreeRegressor(max_depth=20)</td>\n",
       "      <td>20</td>\n",
       "      <td>0.000000e+00</td>\n",
       "      <td>2.812384e+00</td>\n",
       "    </tr>\n",
       "  </tbody>\n",
       "</table>\n",
       "</div>"
      ],
      "text/plain": [
       "                                  model  depth   train_error    test_error\n",
       "0    DecisionTreeRegressor(max_depth=1)      1  4.532147e+06  4.591676e+06\n",
       "1    DecisionTreeRegressor(max_depth=2)      2  1.069014e+06  1.059627e+06\n",
       "2    DecisionTreeRegressor(max_depth=3)      3  2.594777e+05  2.678688e+05\n",
       "3    DecisionTreeRegressor(max_depth=4)      4  6.486328e+04  6.649428e+04\n",
       "4    DecisionTreeRegressor(max_depth=5)      5  1.653492e+04  1.680887e+04\n",
       "5    DecisionTreeRegressor(max_depth=6)      6  4.093329e+03  4.143855e+03\n",
       "6    DecisionTreeRegressor(max_depth=7)      7  1.025254e+03  1.076458e+03\n",
       "7    DecisionTreeRegressor(max_depth=8)      8  2.558448e+02  2.765148e+02\n",
       "8    DecisionTreeRegressor(max_depth=9)      9  6.056011e+01  6.972620e+01\n",
       "9   DecisionTreeRegressor(max_depth=10)     10  1.417467e+01  1.813135e+01\n",
       "10  DecisionTreeRegressor(max_depth=11)     11  3.090616e+00  5.675293e+00\n",
       "11  DecisionTreeRegressor(max_depth=12)     12  5.877861e-01  2.964792e+00\n",
       "12  DecisionTreeRegressor(max_depth=13)     13  8.667843e-02  2.769355e+00\n",
       "13  DecisionTreeRegressor(max_depth=14)     14  3.353322e-03  2.635231e+00\n",
       "14  DecisionTreeRegressor(max_depth=15)     15  0.000000e+00  2.976517e+00\n",
       "15  DecisionTreeRegressor(max_depth=16)     16  0.000000e+00  3.013966e+00\n",
       "16  DecisionTreeRegressor(max_depth=17)     17  0.000000e+00  2.761216e+00\n",
       "17  DecisionTreeRegressor(max_depth=18)     18  0.000000e+00  2.870968e+00\n",
       "18  DecisionTreeRegressor(max_depth=19)     19  0.000000e+00  2.948214e+00\n",
       "19  DecisionTreeRegressor(max_depth=20)     20  0.000000e+00  2.812384e+00"
      ]
     },
     "metadata": {},
     "output_type": "display_data"
    }
   ],
   "source": [
    "display(df)"
   ]
  },
  {
   "cell_type": "markdown",
   "id": "b6f8347e",
   "metadata": {},
   "source": [
    "Estoy haciendo algo mal. Tendre que normalizar?\n",
    "El 8 puede ser bueno\n"
   ]
  },
  {
   "cell_type": "code",
   "execution_count": 130,
   "id": "bc3b6be7",
   "metadata": {},
   "outputs": [
    {
     "data": {
      "text/plain": [
       "DecisionTreeRegressor(max_depth=8)"
      ]
     },
     "execution_count": 130,
     "metadata": {},
     "output_type": "execute_result"
    }
   ],
   "source": [
    "tree_reg = DecisionTreeRegressor(max_depth=8)\n",
    "tree_reg.fit(X_train3,y_train3)"
   ]
  },
  {
   "cell_type": "code",
   "execution_count": 133,
   "id": "c6744c4a",
   "metadata": {},
   "outputs": [
    {
     "name": "stdout",
     "output_type": "stream",
     "text": [
      "train_error 255.84477526167822 \n",
      "test_error 276.5148195444086\n"
     ]
    }
   ],
   "source": [
    "print(\"train_error\", metrics.mean_squared_error(y_train3, tree_reg.predict(X_train3)), '\\n'\n",
    "        \"test_error\", metrics.mean_squared_error(y_test3, tree_reg.predict(X_test3)))"
   ]
  },
  {
   "cell_type": "code",
   "execution_count": null,
   "id": "22256e09",
   "metadata": {},
   "outputs": [],
   "source": [
    "Entreno mi arbolito en serio con todo"
   ]
  },
  {
   "cell_type": "code",
   "execution_count": 142,
   "id": "66719c29",
   "metadata": {},
   "outputs": [
    {
     "data": {
      "text/html": [
       "<div>\n",
       "<style scoped>\n",
       "    .dataframe tbody tr th:only-of-type {\n",
       "        vertical-align: middle;\n",
       "    }\n",
       "\n",
       "    .dataframe tbody tr th {\n",
       "        vertical-align: top;\n",
       "    }\n",
       "\n",
       "    .dataframe thead th {\n",
       "        text-align: right;\n",
       "    }\n",
       "</style>\n",
       "<table border=\"1\" class=\"dataframe\">\n",
       "  <thead>\n",
       "    <tr style=\"text-align: right;\">\n",
       "      <th></th>\n",
       "      <th>id</th>\n",
       "      <th>carat</th>\n",
       "      <th>cut</th>\n",
       "      <th>color</th>\n",
       "      <th>clarity</th>\n",
       "      <th>depth</th>\n",
       "      <th>table</th>\n",
       "      <th>x</th>\n",
       "      <th>y</th>\n",
       "      <th>z</th>\n",
       "    </tr>\n",
       "  </thead>\n",
       "  <tbody>\n",
       "    <tr>\n",
       "      <th>0</th>\n",
       "      <td>0</td>\n",
       "      <td>1.14</td>\n",
       "      <td>1</td>\n",
       "      <td>4</td>\n",
       "      <td>3</td>\n",
       "      <td>61.0</td>\n",
       "      <td>56.0</td>\n",
       "      <td>6.74</td>\n",
       "      <td>6.76</td>\n",
       "      <td>4.12</td>\n",
       "    </tr>\n",
       "    <tr>\n",
       "      <th>1</th>\n",
       "      <td>1</td>\n",
       "      <td>0.76</td>\n",
       "      <td>1</td>\n",
       "      <td>5</td>\n",
       "      <td>5</td>\n",
       "      <td>62.7</td>\n",
       "      <td>57.0</td>\n",
       "      <td>5.86</td>\n",
       "      <td>5.82</td>\n",
       "      <td>3.66</td>\n",
       "    </tr>\n",
       "    <tr>\n",
       "      <th>2</th>\n",
       "      <td>2</td>\n",
       "      <td>0.84</td>\n",
       "      <td>1</td>\n",
       "      <td>4</td>\n",
       "      <td>4</td>\n",
       "      <td>61.4</td>\n",
       "      <td>56.0</td>\n",
       "      <td>6.04</td>\n",
       "      <td>6.15</td>\n",
       "      <td>3.74</td>\n",
       "    </tr>\n",
       "    <tr>\n",
       "      <th>3</th>\n",
       "      <td>3</td>\n",
       "      <td>1.55</td>\n",
       "      <td>1</td>\n",
       "      <td>5</td>\n",
       "      <td>4</td>\n",
       "      <td>62.0</td>\n",
       "      <td>57.0</td>\n",
       "      <td>7.37</td>\n",
       "      <td>7.43</td>\n",
       "      <td>4.59</td>\n",
       "    </tr>\n",
       "    <tr>\n",
       "      <th>4</th>\n",
       "      <td>4</td>\n",
       "      <td>0.30</td>\n",
       "      <td>1</td>\n",
       "      <td>4</td>\n",
       "      <td>7</td>\n",
       "      <td>61.9</td>\n",
       "      <td>57.0</td>\n",
       "      <td>4.28</td>\n",
       "      <td>4.31</td>\n",
       "      <td>2.66</td>\n",
       "    </tr>\n",
       "  </tbody>\n",
       "</table>\n",
       "</div>"
      ],
      "text/plain": [
       "   id  carat  cut  color  clarity  depth  table     x     y     z\n",
       "0   0   1.14    1      4        3   61.0   56.0  6.74  6.76  4.12\n",
       "1   1   0.76    1      5        5   62.7   57.0  5.86  5.82  3.66\n",
       "2   2   0.84    1      4        4   61.4   56.0  6.04  6.15  3.74\n",
       "3   3   1.55    1      5        4   62.0   57.0  7.37  7.43  4.59\n",
       "4   4   0.30    1      4        7   61.9   57.0  4.28  4.31  2.66"
      ]
     },
     "execution_count": 142,
     "metadata": {},
     "output_type": "execute_result"
    }
   ],
   "source": [
    "X.head()"
   ]
  },
  {
   "cell_type": "code",
   "execution_count": 143,
   "id": "1ed9494a",
   "metadata": {},
   "outputs": [],
   "source": [
    "X_ar = X"
   ]
  },
  {
   "cell_type": "code",
   "execution_count": 144,
   "id": "98739009",
   "metadata": {},
   "outputs": [
    {
     "data": {
      "text/html": [
       "<div>\n",
       "<style scoped>\n",
       "    .dataframe tbody tr th:only-of-type {\n",
       "        vertical-align: middle;\n",
       "    }\n",
       "\n",
       "    .dataframe tbody tr th {\n",
       "        vertical-align: top;\n",
       "    }\n",
       "\n",
       "    .dataframe thead th {\n",
       "        text-align: right;\n",
       "    }\n",
       "</style>\n",
       "<table border=\"1\" class=\"dataframe\">\n",
       "  <thead>\n",
       "    <tr style=\"text-align: right;\">\n",
       "      <th></th>\n",
       "      <th>cut</th>\n",
       "      <th>color</th>\n",
       "      <th>clarity</th>\n",
       "      <th>depth</th>\n",
       "      <th>table</th>\n",
       "    </tr>\n",
       "  </thead>\n",
       "  <tbody>\n",
       "    <tr>\n",
       "      <th>0</th>\n",
       "      <td>1</td>\n",
       "      <td>4</td>\n",
       "      <td>3</td>\n",
       "      <td>61.0</td>\n",
       "      <td>56.0</td>\n",
       "    </tr>\n",
       "    <tr>\n",
       "      <th>1</th>\n",
       "      <td>1</td>\n",
       "      <td>5</td>\n",
       "      <td>5</td>\n",
       "      <td>62.7</td>\n",
       "      <td>57.0</td>\n",
       "    </tr>\n",
       "    <tr>\n",
       "      <th>2</th>\n",
       "      <td>1</td>\n",
       "      <td>4</td>\n",
       "      <td>4</td>\n",
       "      <td>61.4</td>\n",
       "      <td>56.0</td>\n",
       "    </tr>\n",
       "    <tr>\n",
       "      <th>3</th>\n",
       "      <td>1</td>\n",
       "      <td>5</td>\n",
       "      <td>4</td>\n",
       "      <td>62.0</td>\n",
       "      <td>57.0</td>\n",
       "    </tr>\n",
       "    <tr>\n",
       "      <th>4</th>\n",
       "      <td>1</td>\n",
       "      <td>4</td>\n",
       "      <td>7</td>\n",
       "      <td>61.9</td>\n",
       "      <td>57.0</td>\n",
       "    </tr>\n",
       "  </tbody>\n",
       "</table>\n",
       "</div>"
      ],
      "text/plain": [
       "   cut  color  clarity  depth  table\n",
       "0    1      4        3   61.0   56.0\n",
       "1    1      5        5   62.7   57.0\n",
       "2    1      4        4   61.4   56.0\n",
       "3    1      5        4   62.0   57.0\n",
       "4    1      4        7   61.9   57.0"
      ]
     },
     "execution_count": 144,
     "metadata": {},
     "output_type": "execute_result"
    }
   ],
   "source": [
    "X_ar = X_ar.drop([\"id\", \"carat\",'x', 'y', 'z'], axis=1)\n",
    "X_ar.head()"
   ]
  },
  {
   "cell_type": "code",
   "execution_count": null,
   "id": "dd9da7f7",
   "metadata": {},
   "outputs": [],
   "source": []
  },
  {
   "cell_type": "code",
   "execution_count": 145,
   "id": "6b9662d9",
   "metadata": {},
   "outputs": [
    {
     "data": {
      "text/plain": [
       "DecisionTreeRegressor(max_depth=8)"
      ]
     },
     "execution_count": 145,
     "metadata": {},
     "output_type": "execute_result"
    }
   ],
   "source": [
    "arbolico = DecisionTreeRegressor(max_depth=8)\n",
    "arbolico.fit(X_ar,y)"
   ]
  },
  {
   "cell_type": "code",
   "execution_count": 150,
   "id": "b656f03b",
   "metadata": {},
   "outputs": [
    {
     "data": {
      "text/html": [
       "<div>\n",
       "<style scoped>\n",
       "    .dataframe tbody tr th:only-of-type {\n",
       "        vertical-align: middle;\n",
       "    }\n",
       "\n",
       "    .dataframe tbody tr th {\n",
       "        vertical-align: top;\n",
       "    }\n",
       "\n",
       "    .dataframe thead th {\n",
       "        text-align: right;\n",
       "    }\n",
       "</style>\n",
       "<table border=\"1\" class=\"dataframe\">\n",
       "  <thead>\n",
       "    <tr style=\"text-align: right;\">\n",
       "      <th></th>\n",
       "      <th>cut</th>\n",
       "      <th>color</th>\n",
       "      <th>clarity</th>\n",
       "      <th>depth</th>\n",
       "      <th>table</th>\n",
       "    </tr>\n",
       "  </thead>\n",
       "  <tbody>\n",
       "    <tr>\n",
       "      <th>0</th>\n",
       "      <td>5</td>\n",
       "      <td>7</td>\n",
       "      <td>7</td>\n",
       "      <td>56.3</td>\n",
       "      <td>64.0</td>\n",
       "    </tr>\n",
       "    <tr>\n",
       "      <th>1</th>\n",
       "      <td>2</td>\n",
       "      <td>4</td>\n",
       "      <td>6</td>\n",
       "      <td>62.3</td>\n",
       "      <td>58.0</td>\n",
       "    </tr>\n",
       "    <tr>\n",
       "      <th>2</th>\n",
       "      <td>5</td>\n",
       "      <td>2</td>\n",
       "      <td>7</td>\n",
       "      <td>67.0</td>\n",
       "      <td>53.0</td>\n",
       "    </tr>\n",
       "    <tr>\n",
       "      <th>3</th>\n",
       "      <td>5</td>\n",
       "      <td>5</td>\n",
       "      <td>7</td>\n",
       "      <td>66.5</td>\n",
       "      <td>62.0</td>\n",
       "    </tr>\n",
       "    <tr>\n",
       "      <th>4</th>\n",
       "      <td>3</td>\n",
       "      <td>6</td>\n",
       "      <td>6</td>\n",
       "      <td>62.6</td>\n",
       "      <td>57.0</td>\n",
       "    </tr>\n",
       "  </tbody>\n",
       "</table>\n",
       "</div>"
      ],
      "text/plain": [
       "   cut  color  clarity  depth  table\n",
       "0    5      7        7   56.3   64.0\n",
       "1    2      4        6   62.3   58.0\n",
       "2    5      2        7   67.0   53.0\n",
       "3    5      5        7   66.5   62.0\n",
       "4    3      6        6   62.6   57.0"
      ]
     },
     "execution_count": 150,
     "metadata": {},
     "output_type": "execute_result"
    }
   ],
   "source": [
    "X_test_ar = X_test.drop([\"id\", \"carat\",'x', 'y', 'z'], axis=1)\n",
    "X_test_ar.head()"
   ]
  },
  {
   "cell_type": "code",
   "execution_count": 153,
   "id": "e5cdb584",
   "metadata": {},
   "outputs": [],
   "source": [
    "y_pred_ar = arbolico.predict(X_test_ar)"
   ]
  },
  {
   "cell_type": "code",
   "execution_count": 155,
   "id": "5e82fd29",
   "metadata": {},
   "outputs": [
    {
     "data": {
      "text/plain": [
       "13485"
      ]
     },
     "execution_count": 155,
     "metadata": {},
     "output_type": "execute_result"
    }
   ],
   "source": [
    "len(y_pred_ar)"
   ]
  },
  {
   "cell_type": "code",
   "execution_count": null,
   "id": "a6eeaecf",
   "metadata": {},
   "outputs": [],
   "source": [
    "y_pred_ar"
   ]
  },
  {
   "cell_type": "code",
   "execution_count": 156,
   "id": "41b195c6",
   "metadata": {},
   "outputs": [],
   "source": [
    "mysub_8 = pd.DataFrame(y_pred_ar)\n",
    "mysub_8 = mysub_8.reset_index()\n",
    "mysub_8.columns = ['id', 'price']"
   ]
  },
  {
   "cell_type": "code",
   "execution_count": 157,
   "id": "951b0a01",
   "metadata": {},
   "outputs": [
    {
     "data": {
      "text/html": [
       "<div>\n",
       "<style scoped>\n",
       "    .dataframe tbody tr th:only-of-type {\n",
       "        vertical-align: middle;\n",
       "    }\n",
       "\n",
       "    .dataframe tbody tr th {\n",
       "        vertical-align: top;\n",
       "    }\n",
       "\n",
       "    .dataframe thead th {\n",
       "        text-align: right;\n",
       "    }\n",
       "</style>\n",
       "<table border=\"1\" class=\"dataframe\">\n",
       "  <thead>\n",
       "    <tr style=\"text-align: right;\">\n",
       "      <th></th>\n",
       "      <th>id</th>\n",
       "      <th>price</th>\n",
       "    </tr>\n",
       "  </thead>\n",
       "  <tbody>\n",
       "    <tr>\n",
       "      <th>0</th>\n",
       "      <td>0</td>\n",
       "      <td>8072.608939</td>\n",
       "    </tr>\n",
       "    <tr>\n",
       "      <th>1</th>\n",
       "      <td>1</td>\n",
       "      <td>4623.579869</td>\n",
       "    </tr>\n",
       "    <tr>\n",
       "      <th>2</th>\n",
       "      <td>2</td>\n",
       "      <td>3827.785714</td>\n",
       "    </tr>\n",
       "    <tr>\n",
       "      <th>3</th>\n",
       "      <td>3</td>\n",
       "      <td>6018.460396</td>\n",
       "    </tr>\n",
       "    <tr>\n",
       "      <th>4</th>\n",
       "      <td>4</td>\n",
       "      <td>4139.619760</td>\n",
       "    </tr>\n",
       "  </tbody>\n",
       "</table>\n",
       "</div>"
      ],
      "text/plain": [
       "   id        price\n",
       "0   0  8072.608939\n",
       "1   1  4623.579869\n",
       "2   2  3827.785714\n",
       "3   3  6018.460396\n",
       "4   4  4139.619760"
      ]
     },
     "execution_count": 157,
     "metadata": {},
     "output_type": "execute_result"
    }
   ],
   "source": [
    "mysub_8.head()"
   ]
  },
  {
   "cell_type": "code",
   "execution_count": 158,
   "id": "77fc67f9",
   "metadata": {},
   "outputs": [],
   "source": [
    "mysub_8.to_csv('../data/mysub_8.csv', index = False)"
   ]
  },
  {
   "cell_type": "code",
   "execution_count": null,
   "id": "54f0cad2",
   "metadata": {},
   "outputs": [],
   "source": []
  },
  {
   "cell_type": "code",
   "execution_count": null,
   "id": "d06a7d33",
   "metadata": {},
   "outputs": [],
   "source": []
  },
  {
   "cell_type": "code",
   "execution_count": null,
   "id": "7b1254d6",
   "metadata": {},
   "outputs": [],
   "source": []
  },
  {
   "cell_type": "code",
   "execution_count": null,
   "id": "09641fe2",
   "metadata": {},
   "outputs": [],
   "source": []
  },
  {
   "cell_type": "code",
   "execution_count": null,
   "id": "b5ae2c91",
   "metadata": {},
   "outputs": [],
   "source": []
  },
  {
   "cell_type": "code",
   "execution_count": null,
   "id": "7a56eb5f",
   "metadata": {},
   "outputs": [],
   "source": []
  },
  {
   "cell_type": "code",
   "execution_count": null,
   "id": "ab28e604",
   "metadata": {},
   "outputs": [],
   "source": []
  },
  {
   "cell_type": "code",
   "execution_count": null,
   "id": "e4ca26bf",
   "metadata": {},
   "outputs": [],
   "source": []
  },
  {
   "cell_type": "code",
   "execution_count": null,
   "id": "db50cbb0",
   "metadata": {},
   "outputs": [],
   "source": []
  },
  {
   "cell_type": "code",
   "execution_count": null,
   "id": "8f31cc3b",
   "metadata": {},
   "outputs": [],
   "source": []
  },
  {
   "cell_type": "code",
   "execution_count": null,
   "id": "234cd45a",
   "metadata": {},
   "outputs": [],
   "source": []
  },
  {
   "cell_type": "code",
   "execution_count": null,
   "id": "4243d28c",
   "metadata": {},
   "outputs": [],
   "source": []
  },
  {
   "cell_type": "code",
   "execution_count": null,
   "id": "afe23f24",
   "metadata": {},
   "outputs": [],
   "source": []
  },
  {
   "cell_type": "code",
   "execution_count": 110,
   "id": "5c0dcd3b",
   "metadata": {},
   "outputs": [],
   "source": [
    "from sklearn.preprocessing import MinMaxScaler"
   ]
  },
  {
   "cell_type": "code",
   "execution_count": 118,
   "id": "1c59bad9",
   "metadata": {},
   "outputs": [],
   "source": [
    "X4 = train.drop(['id', 'price', 'carat', 'x', 'y', 'z', ], axis=1)"
   ]
  },
  {
   "cell_type": "code",
   "execution_count": 121,
   "id": "97d95127",
   "metadata": {},
   "outputs": [
    {
     "data": {
      "text/html": [
       "<div>\n",
       "<style scoped>\n",
       "    .dataframe tbody tr th:only-of-type {\n",
       "        vertical-align: middle;\n",
       "    }\n",
       "\n",
       "    .dataframe tbody tr th {\n",
       "        vertical-align: top;\n",
       "    }\n",
       "\n",
       "    .dataframe thead th {\n",
       "        text-align: right;\n",
       "    }\n",
       "</style>\n",
       "<table border=\"1\" class=\"dataframe\">\n",
       "  <thead>\n",
       "    <tr style=\"text-align: right;\">\n",
       "      <th></th>\n",
       "      <th>cut</th>\n",
       "      <th>color</th>\n",
       "      <th>clarity</th>\n",
       "      <th>depth</th>\n",
       "      <th>table</th>\n",
       "    </tr>\n",
       "  </thead>\n",
       "  <tbody>\n",
       "    <tr>\n",
       "      <th>0</th>\n",
       "      <td>1</td>\n",
       "      <td>4</td>\n",
       "      <td>3</td>\n",
       "      <td>61.0</td>\n",
       "      <td>56.0</td>\n",
       "    </tr>\n",
       "    <tr>\n",
       "      <th>1</th>\n",
       "      <td>1</td>\n",
       "      <td>5</td>\n",
       "      <td>5</td>\n",
       "      <td>62.7</td>\n",
       "      <td>57.0</td>\n",
       "    </tr>\n",
       "    <tr>\n",
       "      <th>2</th>\n",
       "      <td>1</td>\n",
       "      <td>4</td>\n",
       "      <td>4</td>\n",
       "      <td>61.4</td>\n",
       "      <td>56.0</td>\n",
       "    </tr>\n",
       "    <tr>\n",
       "      <th>3</th>\n",
       "      <td>1</td>\n",
       "      <td>5</td>\n",
       "      <td>4</td>\n",
       "      <td>62.0</td>\n",
       "      <td>57.0</td>\n",
       "    </tr>\n",
       "    <tr>\n",
       "      <th>4</th>\n",
       "      <td>1</td>\n",
       "      <td>4</td>\n",
       "      <td>7</td>\n",
       "      <td>61.9</td>\n",
       "      <td>57.0</td>\n",
       "    </tr>\n",
       "    <tr>\n",
       "      <th>...</th>\n",
       "      <td>...</td>\n",
       "      <td>...</td>\n",
       "      <td>...</td>\n",
       "      <td>...</td>\n",
       "      <td>...</td>\n",
       "    </tr>\n",
       "    <tr>\n",
       "      <th>40450</th>\n",
       "      <td>1</td>\n",
       "      <td>2</td>\n",
       "      <td>2</td>\n",
       "      <td>60.8</td>\n",
       "      <td>57.0</td>\n",
       "    </tr>\n",
       "    <tr>\n",
       "      <th>40451</th>\n",
       "      <td>1</td>\n",
       "      <td>7</td>\n",
       "      <td>7</td>\n",
       "      <td>61.6</td>\n",
       "      <td>55.0</td>\n",
       "    </tr>\n",
       "    <tr>\n",
       "      <th>40452</th>\n",
       "      <td>3</td>\n",
       "      <td>2</td>\n",
       "      <td>6</td>\n",
       "      <td>59.4</td>\n",
       "      <td>63.0</td>\n",
       "    </tr>\n",
       "    <tr>\n",
       "      <th>40453</th>\n",
       "      <td>3</td>\n",
       "      <td>2</td>\n",
       "      <td>4</td>\n",
       "      <td>62.9</td>\n",
       "      <td>56.0</td>\n",
       "    </tr>\n",
       "    <tr>\n",
       "      <th>40454</th>\n",
       "      <td>4</td>\n",
       "      <td>7</td>\n",
       "      <td>5</td>\n",
       "      <td>57.2</td>\n",
       "      <td>64.0</td>\n",
       "    </tr>\n",
       "  </tbody>\n",
       "</table>\n",
       "<p>40455 rows × 5 columns</p>\n",
       "</div>"
      ],
      "text/plain": [
       "       cut  color  clarity  depth  table\n",
       "0        1      4        3   61.0   56.0\n",
       "1        1      5        5   62.7   57.0\n",
       "2        1      4        4   61.4   56.0\n",
       "3        1      5        4   62.0   57.0\n",
       "4        1      4        7   61.9   57.0\n",
       "...    ...    ...      ...    ...    ...\n",
       "40450    1      2        2   60.8   57.0\n",
       "40451    1      7        7   61.6   55.0\n",
       "40452    3      2        6   59.4   63.0\n",
       "40453    3      2        4   62.9   56.0\n",
       "40454    4      7        5   57.2   64.0\n",
       "\n",
       "[40455 rows x 5 columns]"
      ]
     },
     "execution_count": 121,
     "metadata": {},
     "output_type": "execute_result"
    }
   ],
   "source": [
    "X4"
   ]
  },
  {
   "cell_type": "code",
   "execution_count": null,
   "id": "0574ba64",
   "metadata": {},
   "outputs": [],
   "source": []
  },
  {
   "cell_type": "code",
   "execution_count": 123,
   "id": "86b81a91",
   "metadata": {},
   "outputs": [],
   "source": [
    "X4_train, X4_test, y4_train, y4_test = tts(X4,y3, test_size=0.20)"
   ]
  },
  {
   "cell_type": "code",
   "execution_count": 124,
   "id": "96eecca4",
   "metadata": {},
   "outputs": [
    {
     "data": {
      "text/html": [
       "<div>\n",
       "<style scoped>\n",
       "    .dataframe tbody tr th:only-of-type {\n",
       "        vertical-align: middle;\n",
       "    }\n",
       "\n",
       "    .dataframe tbody tr th {\n",
       "        vertical-align: top;\n",
       "    }\n",
       "\n",
       "    .dataframe thead th {\n",
       "        text-align: right;\n",
       "    }\n",
       "</style>\n",
       "<table border=\"1\" class=\"dataframe\">\n",
       "  <thead>\n",
       "    <tr style=\"text-align: right;\">\n",
       "      <th></th>\n",
       "      <th>cut</th>\n",
       "      <th>color</th>\n",
       "      <th>clarity</th>\n",
       "      <th>depth</th>\n",
       "      <th>table</th>\n",
       "    </tr>\n",
       "  </thead>\n",
       "  <tbody>\n",
       "    <tr>\n",
       "      <th>23409</th>\n",
       "      <td>1</td>\n",
       "      <td>4</td>\n",
       "      <td>4</td>\n",
       "      <td>61.8</td>\n",
       "      <td>56.0</td>\n",
       "    </tr>\n",
       "    <tr>\n",
       "      <th>4042</th>\n",
       "      <td>2</td>\n",
       "      <td>2</td>\n",
       "      <td>7</td>\n",
       "      <td>61.0</td>\n",
       "      <td>58.0</td>\n",
       "    </tr>\n",
       "    <tr>\n",
       "      <th>1558</th>\n",
       "      <td>1</td>\n",
       "      <td>1</td>\n",
       "      <td>7</td>\n",
       "      <td>62.0</td>\n",
       "      <td>57.0</td>\n",
       "    </tr>\n",
       "    <tr>\n",
       "      <th>39699</th>\n",
       "      <td>3</td>\n",
       "      <td>2</td>\n",
       "      <td>5</td>\n",
       "      <td>62.6</td>\n",
       "      <td>59.0</td>\n",
       "    </tr>\n",
       "    <tr>\n",
       "      <th>27508</th>\n",
       "      <td>2</td>\n",
       "      <td>2</td>\n",
       "      <td>5</td>\n",
       "      <td>62.3</td>\n",
       "      <td>58.0</td>\n",
       "    </tr>\n",
       "    <tr>\n",
       "      <th>...</th>\n",
       "      <td>...</td>\n",
       "      <td>...</td>\n",
       "      <td>...</td>\n",
       "      <td>...</td>\n",
       "      <td>...</td>\n",
       "    </tr>\n",
       "    <tr>\n",
       "      <th>39190</th>\n",
       "      <td>2</td>\n",
       "      <td>5</td>\n",
       "      <td>7</td>\n",
       "      <td>62.6</td>\n",
       "      <td>60.0</td>\n",
       "    </tr>\n",
       "    <tr>\n",
       "      <th>22965</th>\n",
       "      <td>1</td>\n",
       "      <td>6</td>\n",
       "      <td>2</td>\n",
       "      <td>61.9</td>\n",
       "      <td>55.0</td>\n",
       "    </tr>\n",
       "    <tr>\n",
       "      <th>5459</th>\n",
       "      <td>4</td>\n",
       "      <td>2</td>\n",
       "      <td>6</td>\n",
       "      <td>63.5</td>\n",
       "      <td>57.0</td>\n",
       "    </tr>\n",
       "    <tr>\n",
       "      <th>1629</th>\n",
       "      <td>3</td>\n",
       "      <td>6</td>\n",
       "      <td>5</td>\n",
       "      <td>62.2</td>\n",
       "      <td>59.0</td>\n",
       "    </tr>\n",
       "    <tr>\n",
       "      <th>11479</th>\n",
       "      <td>2</td>\n",
       "      <td>3</td>\n",
       "      <td>5</td>\n",
       "      <td>61.4</td>\n",
       "      <td>60.0</td>\n",
       "    </tr>\n",
       "  </tbody>\n",
       "</table>\n",
       "<p>32364 rows × 5 columns</p>\n",
       "</div>"
      ],
      "text/plain": [
       "       cut  color  clarity  depth  table\n",
       "23409    1      4        4   61.8   56.0\n",
       "4042     2      2        7   61.0   58.0\n",
       "1558     1      1        7   62.0   57.0\n",
       "39699    3      2        5   62.6   59.0\n",
       "27508    2      2        5   62.3   58.0\n",
       "...    ...    ...      ...    ...    ...\n",
       "39190    2      5        7   62.6   60.0\n",
       "22965    1      6        2   61.9   55.0\n",
       "5459     4      2        6   63.5   57.0\n",
       "1629     3      6        5   62.2   59.0\n",
       "11479    2      3        5   61.4   60.0\n",
       "\n",
       "[32364 rows x 5 columns]"
      ]
     },
     "execution_count": 124,
     "metadata": {},
     "output_type": "execute_result"
    }
   ],
   "source": [
    "X4_train"
   ]
  },
  {
   "cell_type": "code",
   "execution_count": 125,
   "id": "94622b95",
   "metadata": {},
   "outputs": [],
   "source": [
    "mms=MinMaxScaler()"
   ]
  },
  {
   "cell_type": "code",
   "execution_count": 126,
   "id": "b91dbc37",
   "metadata": {},
   "outputs": [],
   "source": [
    "X4_train=mms.fit_transform(X4_train)\n",
    "X4_test=mms.transform(X4_test)"
   ]
  },
  {
   "cell_type": "code",
   "execution_count": 127,
   "id": "53c41af5",
   "metadata": {},
   "outputs": [
    {
     "data": {
      "text/plain": [
       "array([[0.        , 0.5       , 0.42857143, 0.52222222, 0.25      ],\n",
       "       [0.25      , 0.16666667, 0.85714286, 0.5       , 0.28846154],\n",
       "       [0.        , 0.        , 0.85714286, 0.52777778, 0.26923077],\n",
       "       ...,\n",
       "       [0.75      , 0.16666667, 0.71428571, 0.56944444, 0.26923077],\n",
       "       [0.5       , 0.83333333, 0.57142857, 0.53333333, 0.30769231],\n",
       "       [0.25      , 0.33333333, 0.57142857, 0.51111111, 0.32692308]])"
      ]
     },
     "execution_count": 127,
     "metadata": {},
     "output_type": "execute_result"
    }
   ],
   "source": [
    "X4_train\n"
   ]
  },
  {
   "cell_type": "code",
   "execution_count": 128,
   "id": "ef5ad4f2",
   "metadata": {},
   "outputs": [
    {
     "name": "stdout",
     "output_type": "stream",
     "text": [
      "ENTRENANDO:  linear\n",
      "ENTRENANDO:  ridge\n",
      "ENTRENANDO:  lasso\n",
      "ENTRENANDO:  sgd\n",
      "ENTRENANDO:  knn\n",
      "ENTRENANDO:  grad\n"
     ]
    }
   ],
   "source": [
    "for name, model in models.items():\n",
    "    print(\"ENTRENANDO: \", name)\n",
    "    model.fit(X4_train, y4_train)"
   ]
  },
  {
   "cell_type": "code",
   "execution_count": 129,
   "id": "429eef78",
   "metadata": {},
   "outputs": [
    {
     "name": "stdout",
     "output_type": "stream",
     "text": [
      "------linear------\n",
      "MAE -   2873.4821628616414\n",
      "MSE -   15009155.395320917\n",
      "RMSE -  3874.165122361322\n",
      "R2 -    0.05826558450158981\n",
      "------ridge------\n",
      "MAE -   2873.71987002739\n",
      "MSE -   15009544.231373012\n",
      "RMSE -  3874.2153052422127\n",
      "R2 -    0.058241187373130554\n",
      "------lasso------\n",
      "MAE -   2874.5454647439788\n",
      "MSE -   15010680.205498796\n",
      "RMSE -  3874.361909463131\n",
      "R2 -    0.05816991181490028\n",
      "------sgd------\n",
      "MAE -   2897.8388764467795\n",
      "MSE -   15035529.243706593\n",
      "RMSE -  3877.5674389630663\n",
      "R2 -    0.056610783812293786\n",
      "------knn------\n",
      "MAE -   2935.2769496971946\n",
      "MSE -   16776925.669514276\n",
      "RMSE -  4095.9645591135522\n",
      "R2 -    -0.05265138997533092\n",
      "------grad------\n",
      "MAE -   2819.474634451144\n",
      "MSE -   14460737.112877557\n",
      "RMSE -  3802.7275885708086\n",
      "R2 -    0.0926755400961895\n"
     ]
    }
   ],
   "source": [
    "for name, model in models.items():\n",
    "    y4_pred = model.predict(X4_test)\n",
    "    print(f\"------{name}------\")\n",
    "    print('MAE -  ', metrics.mean_absolute_error(y4_test, y4_pred))\n",
    "    print('MSE -  ', metrics.mean_squared_error(y4_test, y4_pred))\n",
    "    print('RMSE - ', np.sqrt(metrics.mean_squared_error(y4_test, y4_pred)))\n",
    "    print('R2 -   ', metrics.r2_score(y4_test, y4_pred))"
   ]
  },
  {
   "cell_type": "markdown",
   "id": "88847782",
   "metadata": {},
   "source": [
    "## emperora \n",
    "\n",
    " ## veremos en el arbol  de decison"
   ]
  },
  {
   "cell_type": "code",
   "execution_count": null,
   "id": "df358e61",
   "metadata": {},
   "outputs": [],
   "source": []
  },
  {
   "cell_type": "code",
   "execution_count": null,
   "id": "df0591fc",
   "metadata": {},
   "outputs": [],
   "source": []
  },
  {
   "cell_type": "markdown",
   "id": "82f7c750",
   "metadata": {},
   "source": [
    "## preparo el test"
   ]
  },
  {
   "cell_type": "code",
   "execution_count": null,
   "id": "c76454eb",
   "metadata": {},
   "outputs": [],
   "source": [
    "test.color = test.color.replace(cambia_color)\n",
    "test.clarity = test.clarity.replace(cambia_clarity)\n",
    "test.cut = test.cut.replace(cambia_cut)\n",
    "test_cachas = test.drop(['id',\"carat\",'x', 'y', 'z'], axis=1)"
   ]
  },
  {
   "cell_type": "code",
   "execution_count": null,
   "id": "2bd07289",
   "metadata": {},
   "outputs": [],
   "source": [
    "test.sample()"
   ]
  },
  {
   "cell_type": "code",
   "execution_count": null,
   "id": "039516cc",
   "metadata": {},
   "outputs": [],
   "source": [
    "test_cachas.sample()"
   ]
  },
  {
   "cell_type": "code",
   "execution_count": null,
   "id": "b4148700",
   "metadata": {},
   "outputs": [],
   "source": [
    "lasso = Lasso()"
   ]
  },
  {
   "cell_type": "code",
   "execution_count": null,
   "id": "63e0055e",
   "metadata": {},
   "outputs": [],
   "source": [
    "lasso.fit(X, y)"
   ]
  },
  {
   "cell_type": "code",
   "execution_count": null,
   "id": "695a7c25",
   "metadata": {},
   "outputs": [],
   "source": [
    "y_pred1 = lasso.predict(test_cachas)"
   ]
  },
  {
   "cell_type": "code",
   "execution_count": null,
   "id": "7f08aab5",
   "metadata": {},
   "outputs": [],
   "source": [
    "len(y_pred)\n"
   ]
  },
  {
   "cell_type": "code",
   "execution_count": null,
   "id": "e33e1f6d",
   "metadata": {},
   "outputs": [],
   "source": [
    "y_pred1"
   ]
  },
  {
   "cell_type": "code",
   "execution_count": null,
   "id": "d996b44e",
   "metadata": {},
   "outputs": [],
   "source": [
    "mando_yo = pd.DataFrame(y_pred)\n",
    "mando_yo"
   ]
  },
  {
   "cell_type": "code",
   "execution_count": null,
   "id": "1edd85b1",
   "metadata": {},
   "outputs": [],
   "source": [
    "mando_yo = mando_yo.reset_index()\n",
    "mando_yo.columns = ['id', 'price']\n",
    "mando_yo "
   ]
  },
  {
   "cell_type": "code",
   "execution_count": null,
   "id": "00d588d6",
   "metadata": {},
   "outputs": [],
   "source": []
  },
  {
   "cell_type": "code",
   "execution_count": null,
   "id": "10b36c95",
   "metadata": {},
   "outputs": [],
   "source": []
  },
  {
   "cell_type": "code",
   "execution_count": null,
   "id": "7dc1ad51",
   "metadata": {},
   "outputs": [],
   "source": []
  },
  {
   "cell_type": "code",
   "execution_count": null,
   "id": "5f1d9cfa",
   "metadata": {},
   "outputs": [],
   "source": [
    "\n",
    "\n",
    "mando_yo.to_csv('../data/mando_yo2.csv', index = False)"
   ]
  },
  {
   "cell_type": "code",
   "execution_count": null,
   "id": "5e3c584a",
   "metadata": {},
   "outputs": [],
   "source": []
  },
  {
   "cell_type": "code",
   "execution_count": null,
   "id": "106ef668",
   "metadata": {},
   "outputs": [],
   "source": [
    "grad2 = GradientBoostingRegressor()"
   ]
  },
  {
   "cell_type": "code",
   "execution_count": null,
   "id": "d5cf4d9d",
   "metadata": {},
   "outputs": [],
   "source": [
    "grad2.fit(X, y)"
   ]
  },
  {
   "cell_type": "code",
   "execution_count": null,
   "id": "e415d7bb",
   "metadata": {},
   "outputs": [],
   "source": [
    "y_pred3 = grad2.predict(test_cachas)"
   ]
  },
  {
   "cell_type": "code",
   "execution_count": null,
   "id": "96ea5de2",
   "metadata": {},
   "outputs": [],
   "source": [
    "len(y_pred3)"
   ]
  },
  {
   "cell_type": "code",
   "execution_count": null,
   "id": "8219b6ba",
   "metadata": {},
   "outputs": [],
   "source": [
    "y_pred3"
   ]
  },
  {
   "cell_type": "code",
   "execution_count": null,
   "id": "b07529e9",
   "metadata": {},
   "outputs": [],
   "source": [
    "mando_yo3 = pd.DataFrame(y_pred3)\n",
    "mando_yo3"
   ]
  },
  {
   "cell_type": "code",
   "execution_count": null,
   "id": "5945a487",
   "metadata": {},
   "outputs": [],
   "source": []
  },
  {
   "cell_type": "code",
   "execution_count": null,
   "id": "481f47c1",
   "metadata": {},
   "outputs": [],
   "source": [
    "mando_yo3 = mando_yo3.reset_index()\n",
    "mando_yo3"
   ]
  },
  {
   "cell_type": "code",
   "execution_count": null,
   "id": "fde3aeec",
   "metadata": {},
   "outputs": [],
   "source": [
    "mando_yo3.columns = ['id', 'price']"
   ]
  },
  {
   "cell_type": "code",
   "execution_count": null,
   "id": "7c4ae86a",
   "metadata": {},
   "outputs": [],
   "source": [
    "mando_yo3.to_csv('../data/mando_yo3.csv', index = False)\n"
   ]
  },
  {
   "cell_type": "code",
   "execution_count": null,
   "id": "224437a0",
   "metadata": {},
   "outputs": [],
   "source": []
  },
  {
   "cell_type": "code",
   "execution_count": null,
   "id": "bb30afa8",
   "metadata": {},
   "outputs": [],
   "source": []
  },
  {
   "cell_type": "code",
   "execution_count": null,
   "id": "a073f3aa",
   "metadata": {},
   "outputs": [],
   "source": []
  },
  {
   "cell_type": "code",
   "execution_count": null,
   "id": "5fec9379",
   "metadata": {},
   "outputs": [],
   "source": [
    "train_new= pd.read_csv('../data/new_train.csv')"
   ]
  },
  {
   "cell_type": "code",
   "execution_count": null,
   "id": "25975156",
   "metadata": {},
   "outputs": [],
   "source": [
    "sns.heatmap(train_new.corr(),cmap=\"Spectral\", annot= True)"
   ]
  },
  {
   "cell_type": "code",
   "execution_count": null,
   "id": "790d77f9",
   "metadata": {},
   "outputs": [],
   "source": [
    "y = train_new['price']"
   ]
  },
  {
   "cell_type": "code",
   "execution_count": null,
   "id": "0837a38c",
   "metadata": {},
   "outputs": [],
   "source": [
    "to_drop = ['x', 'y', 'z', 'carat', 'price', 'Unnamed: 0', 'id']"
   ]
  },
  {
   "cell_type": "code",
   "execution_count": null,
   "id": "82e7cc75",
   "metadata": {},
   "outputs": [],
   "source": [
    "X = train_new.drop(to_drop, axis=1)"
   ]
  },
  {
   "cell_type": "code",
   "execution_count": null,
   "id": "b924050b",
   "metadata": {},
   "outputs": [],
   "source": [
    "X.head()"
   ]
  },
  {
   "cell_type": "code",
   "execution_count": null,
   "id": "85f29f4e",
   "metadata": {},
   "outputs": [],
   "source": [
    "X.shape"
   ]
  },
  {
   "cell_type": "code",
   "execution_count": null,
   "id": "246dd686",
   "metadata": {},
   "outputs": [],
   "source": [
    "X_train, X_test, y_train, y_test = tts(X,y, test_size=0.2)"
   ]
  },
  {
   "cell_type": "code",
   "execution_count": null,
   "id": "75927836",
   "metadata": {},
   "outputs": [],
   "source": [
    "for name, model in models.items():\n",
    "    print(\"ENTRENANDO: \", name)\n",
    "    model.fit(X_train, y_train)"
   ]
  },
  {
   "cell_type": "code",
   "execution_count": null,
   "id": "5909a55d",
   "metadata": {},
   "outputs": [],
   "source": [
    "for name, model in models.items():\n",
    "    y_pred = model.predict(X_test)\n",
    "    print(f\"------{name}------\")\n",
    "    print('MAE -  ', metrics.mean_absolute_error(y_test, y_pred))\n",
    "    print('MSE -  ', metrics.mean_squared_error(y_test, y_pred))\n",
    "    print('RMSE - ', np.sqrt(metrics.mean_squared_error(y_test, y_pred)))\n",
    "    print('R2 -   ', metrics.r2_score(y_test, y_pred))"
   ]
  },
  {
   "cell_type": "code",
   "execution_count": null,
   "id": "1e045937",
   "metadata": {},
   "outputs": [],
   "source": []
  },
  {
   "cell_type": "code",
   "execution_count": null,
   "id": "b2e9b28b",
   "metadata": {},
   "outputs": [],
   "source": []
  },
  {
   "cell_type": "code",
   "execution_count": null,
   "id": "0b868a73",
   "metadata": {},
   "outputs": [],
   "source": []
  },
  {
   "cell_type": "code",
   "execution_count": null,
   "id": "5a909585",
   "metadata": {},
   "outputs": [],
   "source": []
  },
  {
   "cell_type": "code",
   "execution_count": null,
   "id": "9e27542e",
   "metadata": {},
   "outputs": [],
   "source": []
  }
 ],
 "metadata": {
  "kernelspec": {
   "display_name": "minimal_ds",
   "language": "python",
   "name": "minimal_ds"
  },
  "language_info": {
   "codemirror_mode": {
    "name": "ipython",
    "version": 3
   },
   "file_extension": ".py",
   "mimetype": "text/x-python",
   "name": "python",
   "nbconvert_exporter": "python",
   "pygments_lexer": "ipython3",
   "version": "3.10.0"
  },
  "toc": {
   "base_numbering": 1,
   "nav_menu": {},
   "number_sections": true,
   "sideBar": true,
   "skip_h1_title": false,
   "title_cell": "Table of Contents",
   "title_sidebar": "Contents",
   "toc_cell": false,
   "toc_position": {},
   "toc_section_display": true,
   "toc_window_display": false
  }
 },
 "nbformat": 4,
 "nbformat_minor": 5
}
